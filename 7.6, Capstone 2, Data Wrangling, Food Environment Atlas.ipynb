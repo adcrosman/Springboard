{
 "cells": [
  {
   "cell_type": "code",
   "execution_count": 1,
   "id": "cb022511",
   "metadata": {},
   "outputs": [],
   "source": [
    "import pandas as pd\n",
    "import numpy as np\n",
    "import matplotlib.pyplot as plt\n",
    "data = pd.ExcelFile('DataDownload.xls')"
   ]
  },
  {
   "cell_type": "code",
   "execution_count": 2,
   "id": "39f1d422",
   "metadata": {},
   "outputs": [
    {
     "name": "stdout",
     "output_type": "stream",
     "text": [
      "['Read_Me', 'Variable List', 'Supplemental Data - County', 'Supplemental Data - State', 'ACCESS', 'STORES', 'RESTAURANTS', 'ASSISTANCE', 'INSECURITY', 'PRICES_TAXES', 'LOCAL', 'HEALTH', 'SOCIOECONOMIC']\n"
     ]
    }
   ],
   "source": [
    "print(data.sheet_names)"
   ]
  },
  {
   "cell_type": "code",
   "execution_count": 3,
   "id": "71e88d74",
   "metadata": {},
   "outputs": [
    {
     "name": "stdout",
     "output_type": "stream",
     "text": [
      "  State   County  LACCESS_POP10  LACCESS_POP15  PCH_LACCESS_POP_10_15  \\\n",
      "0    AL  Autauga   18428.439685   17496.693038              -5.056026   \n",
      "1    AL  Baldwin   35210.814078   30561.264430             -13.204891   \n",
      "2    AL  Barbour    5722.305602    6069.523628               6.067799   \n",
      "3    AL     Bibb    1044.867327     969.378841              -7.224696   \n",
      "4    AL   Blount    1548.175559    3724.428242             140.568857   \n",
      "\n",
      "   PCT_LACCESS_POP10  PCT_LACCESS_POP15  LACCESS_LOWI10  LACCESS_LOWI15  \\\n",
      "0          33.769657          32.062255     5344.427472     6543.676824   \n",
      "1          19.318473          16.767489     9952.144027     9886.831137   \n",
      "2          20.840972          22.105560     3135.676086     2948.790251   \n",
      "3           4.559753           4.230324      491.449066      596.162829   \n",
      "4           2.700840           6.497380      609.027708     1650.959482   \n",
      "\n",
      "   PCH_LACCESS_LOWI_10_15  PCT_LACCESS_LOWI10  PCT_LACCESS_LOWI15  \\\n",
      "0               22.439248            9.793530           11.991125   \n",
      "1               -0.656270            5.460261            5.424427   \n",
      "2               -5.959985           11.420316           10.739667   \n",
      "3               21.307144            2.144661            2.601627   \n",
      "4              171.081177            1.062468            2.880150   \n",
      "\n",
      "   LACCESS_SNAP15  PCT_LACCESS_SNAP15  \n",
      "0      931.935186            4.608749  \n",
      "1      950.535290            1.298900  \n",
      "2      422.569040            4.303147  \n",
      "3       53.818772            0.676710  \n",
      "4      175.370338            0.812727  \n"
     ]
    }
   ],
   "source": [
    "df1 = data.parse('ACCESS')\n",
    "Access = df1[['State', 'County', 'LACCESS_POP10', 'LACCESS_POP15', 'PCH_LACCESS_POP_10_15', 'PCT_LACCESS_POP10', 'PCT_LACCESS_POP15', 'LACCESS_LOWI10', 'LACCESS_LOWI15', 'PCH_LACCESS_LOWI_10_15', 'PCT_LACCESS_LOWI10', 'PCT_LACCESS_LOWI15', 'LACCESS_SNAP15', 'PCT_LACCESS_SNAP15']]\n",
    "print(Access.head())"
   ]
  },
  {
   "cell_type": "code",
   "execution_count": 4,
   "id": "302eb49d",
   "metadata": {},
   "outputs": [
    {
     "name": "stdout",
     "output_type": "stream",
     "text": [
      "  State   County     SNAPS12     SNAPS16  PCH_SNAPS_12_16  SNAPSPTH12  \\\n",
      "0    AL  Autauga   37.416667   42.166667        12.694878    0.674004   \n",
      "1    AL  Baldwin  138.333333  198.083333        43.192771    0.725055   \n",
      "2    AL  Barbour   34.833333   35.166667         0.956938    1.280590   \n",
      "3    AL     Bibb   16.250000   19.583333        20.512821    0.719122   \n",
      "4    AL   Blount   38.000000   47.083333        23.903509    0.657144   \n",
      "\n",
      "   SNAPSPTH16  PCH_SNAPSPTH_12_16  \n",
      "0    0.760911           12.894172  \n",
      "1    0.949753           30.990390  \n",
      "2    1.354387            5.762745  \n",
      "3    0.864874           20.267995  \n",
      "4    0.815946           24.165470  \n"
     ]
    }
   ],
   "source": [
    "df2 = data.parse('STORES')\n",
    "Stores = df2[['State', 'County', 'SNAPS12', 'SNAPS16', 'PCH_SNAPS_12_16', 'SNAPSPTH12', 'SNAPSPTH16', 'PCH_SNAPSPTH_12_16']]\n",
    "print(Stores.head())"
   ]
  },
  {
   "cell_type": "code",
   "execution_count": 5,
   "id": "7dcc1d6d",
   "metadata": {},
   "outputs": [
    {
     "name": "stdout",
     "output_type": "stream",
     "text": [
      "  State   County  REDEMP_SNAPS12  REDEMP_SNAPS16  PCH_REDEMP_SNAPS_12_16  \\\n",
      "0    AL  Autauga   301432.081069   239024.015573              -20.703856   \n",
      "1    AL  Baldwin   274394.503663   155844.390189              -43.204260   \n",
      "2    AL  Barbour   325496.560766   281716.325972              -13.450291   \n",
      "3    AL     Bibb   356444.032000   256026.919660              -28.171916   \n",
      "4    AL   Blount   229730.022632   141304.900673              -38.490886   \n",
      "\n",
      "   PCT_SNAP12  PCT_SNAP16  PCH_SNAP_12_16  PC_SNAPBEN10  PC_SNAPBEN15  ...  \\\n",
      "0   18.824675   16.976436       -1.848239     16.692321     17.905272  ...   \n",
      "1   18.824675   16.976436       -1.848239     14.139211     14.157134  ...   \n",
      "2   18.824675   16.976436       -1.848239     27.558243     31.633041  ...   \n",
      "3   18.824675   16.976436       -1.848239     20.128737     19.473132  ...   \n",
      "4   18.824675   16.976436       -1.848239     19.157857     15.795131  ...   \n",
      "\n",
      "   SNAP_PART_RATE08  SNAP_PART_RATE13  SNAP_OAPP09  SNAP_OAPP16  SNAP_CAP09  \\\n",
      "0                67            89.184          0.0          1.0           0   \n",
      "1                67            89.184          0.0          1.0           0   \n",
      "2                67            89.184          0.0          1.0           0   \n",
      "3                67            89.184          0.0          1.0           0   \n",
      "4                67            89.184          0.0          1.0           0   \n",
      "\n",
      "   SNAP_CAP16  SNAP_BBCE09  SNAP_BBCE16  SNAP_REPORTSIMPLE09  \\\n",
      "0           0            0            1                    1   \n",
      "1           0            0            1                    1   \n",
      "2           0            0            1                    1   \n",
      "3           0            0            1                    1   \n",
      "4           0            0            1                    1   \n",
      "\n",
      "   SNAP_REPORTSIMPLE16  \n",
      "0                    1  \n",
      "1                    1  \n",
      "2                    1  \n",
      "3                    1  \n",
      "4                    1  \n",
      "\n",
      "[5 rows x 21 columns]\n"
     ]
    }
   ],
   "source": [
    "df3 = data.parse('ASSISTANCE')\n",
    "Assistance = df3[['State', 'County', 'REDEMP_SNAPS12', 'REDEMP_SNAPS16', 'PCH_REDEMP_SNAPS_12_16', 'PCT_SNAP12', 'PCT_SNAP16', 'PCH_SNAP_12_16', 'PC_SNAPBEN10', 'PC_SNAPBEN15', 'PCH_PC_SNAPBEN_10_15', 'SNAP_PART_RATE08', 'SNAP_PART_RATE13', 'SNAP_OAPP09', 'SNAP_OAPP16', 'SNAP_CAP09', 'SNAP_CAP16', 'SNAP_BBCE09', 'SNAP_BBCE16', 'SNAP_REPORTSIMPLE09', 'SNAP_REPORTSIMPLE16']]\n",
    "print(Assistance.head())"
   ]
  },
  {
   "cell_type": "code",
   "execution_count": 6,
   "id": "337446ad",
   "metadata": {},
   "outputs": [
    {
     "name": "stdout",
     "output_type": "stream",
     "text": [
      "  State   County  FMRKT09  FMRKT16  PCH_FMRKT_09_16  FMRKTPTH09  FMRKTPTH16  \\\n",
      "0    AL  Autauga      2.0        1            -50.0    0.039404    0.018045   \n",
      "1    AL  Baldwin      4.0        4              0.0    0.022237    0.019179   \n",
      "2    AL  Barbour      2.0        4            100.0    0.067256    0.154054   \n",
      "3    AL     Bibb      1.0        1              0.0    0.046324    0.044164   \n",
      "4    AL   Blount      1.0        1              0.0    0.017139    0.017330   \n",
      "\n",
      "   PCH_FMRKTPTH_09_16  FMRKT_SNAP16  PCT_FMRKT_SNAP16  \n",
      "0          -54.204562           0.0               0.0  \n",
      "1          -13.753638           0.0               0.0  \n",
      "2          129.054496           2.0              50.0  \n",
      "3           -4.663693           0.0               0.0  \n",
      "4            1.110842           0.0               0.0  \n"
     ]
    }
   ],
   "source": [
    "df4 = data.parse('LOCAL')\n",
    "Local = df4[['State', 'County', 'FMRKT09', 'FMRKT16', 'PCH_FMRKT_09_16', 'FMRKTPTH09', 'FMRKTPTH16', 'PCH_FMRKTPTH_09_16', 'FMRKT_SNAP16', 'PCT_FMRKT_SNAP16']]\n",
    "print(Local.head())"
   ]
  },
  {
   "cell_type": "code",
   "execution_count": 7,
   "id": "649d5ffe",
   "metadata": {},
   "outputs": [
    {
     "name": "stdout",
     "output_type": "stream",
     "text": [
      "       LACCESS_POP10  LACCESS_POP15  PCH_LACCESS_POP_10_15  PCT_LACCESS_POP10  \\\n",
      "count    3143.000000    3124.000000           3.117000e+03        3143.000000   \n",
      "mean    20156.653242   19287.747386           7.180008e+03          23.559330   \n",
      "std     51308.865791   47803.525596           3.955676e+05          20.250176   \n",
      "min         0.000000       0.000000          -1.000000e+02           0.000000   \n",
      "25%      1661.076794    1631.358726          -1.091343e+01          10.847099   \n",
      "50%      4097.827186    4131.174278          -6.239322e-02          19.685956   \n",
      "75%     12954.123206   13119.029389           7.262080e+00          29.581054   \n",
      "max    886068.668386  740267.412661           2.208376e+07         100.000001   \n",
      "\n",
      "       PCT_LACCESS_POP15  LACCESS_LOWI10  LACCESS_LOWI15  \\\n",
      "count        3124.000000     3143.000000     3123.000000   \n",
      "mean           23.084470     5551.776559     5833.959524   \n",
      "std            19.602745    13862.922934    13989.348252   \n",
      "min             0.000000        0.000000        0.000000   \n",
      "25%            10.927326      592.983070      608.235919   \n",
      "50%            19.200682     1500.780036     1636.858816   \n",
      "75%            28.862231     4591.067541     4859.016156   \n",
      "max           100.000001   292541.789025   259479.516033   \n",
      "\n",
      "       PCH_LACCESS_LOWI_10_15  PCT_LACCESS_LOWI10  PCT_LACCESS_LOWI15  \\\n",
      "count            3.115000e+03         3143.000000         3123.000000   \n",
      "mean             7.318957e+03            8.374953            8.651256   \n",
      "std              4.004692e+05            8.214988            8.368703   \n",
      "min             -1.000000e+02            0.000000            0.000000   \n",
      "25%             -1.232638e+01            3.442171            3.625438   \n",
      "50%              3.486028e+00            6.150772            6.508531   \n",
      "75%              2.352342e+01           10.324935           10.679796   \n",
      "max              2.234893e+07           72.274456           71.844209   \n",
      "\n",
      "       LACCESS_SNAP15  PCT_LACCESS_SNAP15  \n",
      "count     3123.000000         3123.000000  \n",
      "mean       804.471927            2.917896  \n",
      "std       1870.844498            3.160642  \n",
      "min          0.000000            0.000000  \n",
      "25%         68.476725            1.132022  \n",
      "50%        218.176102            2.128783  \n",
      "75%        687.003195            3.668171  \n",
      "max      29461.297953           37.254488  \n",
      "           SNAPS12      SNAPS16  PCH_SNAPS_12_16   SNAPSPTH12   SNAPSPTH16  \\\n",
      "count  3143.000000  3117.000000      3114.000000  3143.000000  3114.000000   \n",
      "mean     71.844867    76.359480         9.480335     0.880064     0.937187   \n",
      "std     222.065701   221.709555        29.717346     0.387638     0.376345   \n",
      "min       0.000000     0.333333       -76.470588     0.000000     0.118901   \n",
      "25%      10.000000    10.750000        -1.748315     0.629603     0.693547   \n",
      "50%      22.416667    24.500000         6.289630     0.818400     0.886791   \n",
      "75%      54.208333    59.250000        17.130169     1.066786     1.115928   \n",
      "max    6466.666667  6415.666667      1100.000000     6.658001     6.047171   \n",
      "\n",
      "       PCH_SNAPSPTH_12_16  \n",
      "count         3111.000000  \n",
      "mean             9.219019  \n",
      "std             30.392336  \n",
      "min            -76.873231  \n",
      "25%             -2.437053  \n",
      "50%              5.773032  \n",
      "75%             16.475014  \n",
      "max           1135.312024  \n",
      "       REDEMP_SNAPS12  REDEMP_SNAPS16  PCH_REDEMP_SNAPS_12_16   PCT_SNAP12  \\\n",
      "count    2.901000e+03     2969.000000             2867.000000  3143.000000   \n",
      "mean     2.551360e+05   196906.863308              -19.919135    15.148961   \n",
      "std      1.256706e+05   103615.694301               20.921085     3.604832   \n",
      "min      0.000000e+00        0.000000              -93.353948     5.866367   \n",
      "25%      1.642409e+05   121716.925000              -32.300036    12.566062   \n",
      "50%      2.577948e+05   194481.970430              -22.056440    15.223027   \n",
      "75%      3.351987e+05   259724.997559              -10.484279    18.353499   \n",
      "max      1.253321e+06   827697.740571              405.981639    22.131516   \n",
      "\n",
      "        PCT_SNAP16  PCH_SNAP_12_16  PC_SNAPBEN10  PC_SNAPBEN15  \\\n",
      "count  3143.000000     3143.000000   3060.000000   3059.000000   \n",
      "mean     13.339445       -1.809516     18.614255     17.625872   \n",
      "std       3.196074        1.445719      9.572083      9.648528   \n",
      "min       5.817753       -4.865687      1.013588      0.863202   \n",
      "25%      10.961725       -2.932261     11.367797     10.601362   \n",
      "50%      13.527693       -1.708690     17.445385     16.146207   \n",
      "75%      15.466672       -1.128421     24.124433     22.638639   \n",
      "max      22.763699        2.018162     76.284852    100.139353   \n",
      "\n",
      "       PCH_PC_SNAPBEN_10_15  SNAP_PART_RATE08  SNAP_PART_RATE13  SNAP_OAPP09  \\\n",
      "count           3060.000000       3143.000000       3143.000000  3143.000000   \n",
      "mean              -4.899652         68.567292         86.460281     0.536748   \n",
      "std               17.036711         10.388897          8.916914     0.481519   \n",
      "min             -100.000000         48.000000         56.955000     0.000000   \n",
      "25%              -15.514554         62.000000         79.024000     0.000000   \n",
      "50%               -6.486179         66.000000         86.331000     1.000000   \n",
      "75%                3.875548         78.000000         92.597000     1.000000   \n",
      "max              166.494030        100.000000        100.000000     1.000000   \n",
      "\n",
      "       SNAP_OAPP16   SNAP_CAP09   SNAP_CAP16  SNAP_BBCE09  SNAP_BBCE16  \\\n",
      "count  3143.000000  3143.000000  3143.000000  3143.000000  3143.000000   \n",
      "mean      0.874642     0.371619     0.400255     0.465161     0.736876   \n",
      "std       0.319934     0.483314     0.490028     0.498864     0.440399   \n",
      "min       0.000000     0.000000     0.000000     0.000000     0.000000   \n",
      "25%       1.000000     0.000000     0.000000     0.000000     0.000000   \n",
      "50%       1.000000     0.000000     0.000000     0.000000     1.000000   \n",
      "75%       1.000000     1.000000     1.000000     1.000000     1.000000   \n",
      "max       1.000000     1.000000     1.000000     1.000000     1.000000   \n",
      "\n",
      "       SNAP_REPORTSIMPLE09  SNAP_REPORTSIMPLE16  \n",
      "count          3143.000000               3143.0  \n",
      "mean              0.974228                  1.0  \n",
      "std               0.158478                  0.0  \n",
      "min               0.000000                  1.0  \n",
      "25%               1.000000                  1.0  \n",
      "50%               1.000000                  1.0  \n",
      "75%               1.000000                  1.0  \n",
      "max               1.000000                  1.0  \n",
      "           FMRKT09      FMRKT16  PCH_FMRKT_09_16   FMRKTPTH09   FMRKTPTH16  \\\n",
      "count  3137.000000  3143.000000      2587.000000  3137.000000  3141.000000   \n",
      "mean      1.670386     2.735921        37.576040     0.035973     0.058366   \n",
      "std       4.002199     5.806634        98.917037     0.070193     0.098079   \n",
      "min       0.000000     0.000000      -100.000000     0.000000     0.000000   \n",
      "25%       0.000000     0.000000         0.000000     0.000000     0.000000   \n",
      "50%       1.000000     1.000000         0.000000     0.010234     0.029666   \n",
      "75%       2.000000     3.000000        50.000000     0.043991     0.072046   \n",
      "max      94.000000   125.000000      1600.000000     1.019888     1.445087   \n",
      "\n",
      "       PCH_FMRKTPTH_09_16  FMRKT_SNAP16  PCT_FMRKT_SNAP16  \n",
      "count         2592.000000   2248.000000       2248.000000  \n",
      "mean            34.169579      1.213523         24.265832  \n",
      "std             94.458942      3.310346         34.415429  \n",
      "min           -100.000000      0.000000          0.000000  \n",
      "25%              0.000000      0.000000          0.000000  \n",
      "50%              0.000000      0.000000          0.000000  \n",
      "75%             49.011977      1.000000         50.000000  \n",
      "max           1617.310053     52.000000        100.000000  \n"
     ]
    }
   ],
   "source": [
    "print(Access.describe())\n",
    "print(Stores.describe())\n",
    "print(Assistance.describe())\n",
    "print(Local.describe())"
   ]
  },
  {
   "cell_type": "markdown",
   "id": "5ff4abb9",
   "metadata": {},
   "source": [
    "It seems doubtful that Farmers Markets are accessible enough to make a meaningful impact on food accessability to those with SNAP benefits"
   ]
  },
  {
   "cell_type": "code",
   "execution_count": 8,
   "id": "5ce48b39",
   "metadata": {},
   "outputs": [],
   "source": [
    "df5 = data.parse('Supplemental Data - County')\n",
    "County = df5[['State', 'County', '2010 Census Population', 'Population Estimate, 2011', 'Population Estimate, 2012', 'Population Estimate, 2013', 'Population Estimate, 2014', 'Population Estimate, 2015', 'Population Estimate, 2016']]"
   ]
  },
  {
   "cell_type": "code",
   "execution_count": 9,
   "id": "ff46ae32",
   "metadata": {},
   "outputs": [
    {
     "name": "stdout",
     "output_type": "stream",
     "text": [
      "<class 'pandas.core.frame.DataFrame'>\n",
      "RangeIndex: 3142 entries, 0 to 3141\n",
      "Data columns (total 9 columns):\n",
      " #   Column                     Non-Null Count  Dtype \n",
      "---  ------                     --------------  ----- \n",
      " 0   State                      3142 non-null   object\n",
      " 1   County                     3142 non-null   object\n",
      " 2   2010 Census Population     3142 non-null   object\n",
      " 3   Population Estimate, 2011  3142 non-null   object\n",
      " 4   Population Estimate, 2012  3142 non-null   object\n",
      " 5   Population Estimate, 2013  3142 non-null   object\n",
      " 6   Population Estimate, 2014  3142 non-null   object\n",
      " 7   Population Estimate, 2015  3142 non-null   object\n",
      " 8   Population Estimate, 2016  3142 non-null   object\n",
      "dtypes: object(9)\n",
      "memory usage: 221.0+ KB\n",
      "None\n",
      "<class 'pandas.core.frame.DataFrame'>\n",
      "RangeIndex: 3143 entries, 0 to 3142\n",
      "Data columns (total 14 columns):\n",
      " #   Column                  Non-Null Count  Dtype  \n",
      "---  ------                  --------------  -----  \n",
      " 0   State                   3143 non-null   object \n",
      " 1   County                  3143 non-null   object \n",
      " 2   LACCESS_POP10           3143 non-null   float64\n",
      " 3   LACCESS_POP15           3124 non-null   float64\n",
      " 4   PCH_LACCESS_POP_10_15   3117 non-null   float64\n",
      " 5   PCT_LACCESS_POP10       3143 non-null   float64\n",
      " 6   PCT_LACCESS_POP15       3124 non-null   float64\n",
      " 7   LACCESS_LOWI10          3143 non-null   float64\n",
      " 8   LACCESS_LOWI15          3123 non-null   float64\n",
      " 9   PCH_LACCESS_LOWI_10_15  3115 non-null   float64\n",
      " 10  PCT_LACCESS_LOWI10      3143 non-null   float64\n",
      " 11  PCT_LACCESS_LOWI15      3123 non-null   float64\n",
      " 12  LACCESS_SNAP15          3123 non-null   float64\n",
      " 13  PCT_LACCESS_SNAP15      3123 non-null   float64\n",
      "dtypes: float64(12), object(2)\n",
      "memory usage: 343.9+ KB\n",
      "None\n",
      "<class 'pandas.core.frame.DataFrame'>\n",
      "RangeIndex: 3143 entries, 0 to 3142\n",
      "Data columns (total 8 columns):\n",
      " #   Column              Non-Null Count  Dtype  \n",
      "---  ------              --------------  -----  \n",
      " 0   State               3143 non-null   object \n",
      " 1   County              3143 non-null   object \n",
      " 2   SNAPS12             3143 non-null   float64\n",
      " 3   SNAPS16             3117 non-null   float64\n",
      " 4   PCH_SNAPS_12_16     3114 non-null   float64\n",
      " 5   SNAPSPTH12          3143 non-null   float64\n",
      " 6   SNAPSPTH16          3114 non-null   float64\n",
      " 7   PCH_SNAPSPTH_12_16  3111 non-null   float64\n",
      "dtypes: float64(6), object(2)\n",
      "memory usage: 196.6+ KB\n",
      "None\n",
      "<class 'pandas.core.frame.DataFrame'>\n",
      "RangeIndex: 3143 entries, 0 to 3142\n",
      "Data columns (total 21 columns):\n",
      " #   Column                  Non-Null Count  Dtype  \n",
      "---  ------                  --------------  -----  \n",
      " 0   State                   3143 non-null   object \n",
      " 1   County                  3143 non-null   object \n",
      " 2   REDEMP_SNAPS12          2901 non-null   float64\n",
      " 3   REDEMP_SNAPS16          2969 non-null   float64\n",
      " 4   PCH_REDEMP_SNAPS_12_16  2867 non-null   float64\n",
      " 5   PCT_SNAP12              3143 non-null   float64\n",
      " 6   PCT_SNAP16              3143 non-null   float64\n",
      " 7   PCH_SNAP_12_16          3143 non-null   float64\n",
      " 8   PC_SNAPBEN10            3060 non-null   float64\n",
      " 9   PC_SNAPBEN15            3059 non-null   float64\n",
      " 10  PCH_PC_SNAPBEN_10_15    3060 non-null   float64\n",
      " 11  SNAP_PART_RATE08        3143 non-null   int64  \n",
      " 12  SNAP_PART_RATE13        3143 non-null   float64\n",
      " 13  SNAP_OAPP09             3143 non-null   float64\n",
      " 14  SNAP_OAPP16             3143 non-null   float64\n",
      " 15  SNAP_CAP09              3143 non-null   int64  \n",
      " 16  SNAP_CAP16              3143 non-null   int64  \n",
      " 17  SNAP_BBCE09             3143 non-null   int64  \n",
      " 18  SNAP_BBCE16             3143 non-null   int64  \n",
      " 19  SNAP_REPORTSIMPLE09     3143 non-null   int64  \n",
      " 20  SNAP_REPORTSIMPLE16     3143 non-null   int64  \n",
      "dtypes: float64(12), int64(7), object(2)\n",
      "memory usage: 515.8+ KB\n",
      "None\n",
      "<class 'pandas.core.frame.DataFrame'>\n",
      "RangeIndex: 3143 entries, 0 to 3142\n",
      "Data columns (total 10 columns):\n",
      " #   Column              Non-Null Count  Dtype  \n",
      "---  ------              --------------  -----  \n",
      " 0   State               3143 non-null   object \n",
      " 1   County              3143 non-null   object \n",
      " 2   FMRKT09             3137 non-null   float64\n",
      " 3   FMRKT16             3143 non-null   int64  \n",
      " 4   PCH_FMRKT_09_16     2587 non-null   float64\n",
      " 5   FMRKTPTH09          3137 non-null   float64\n",
      " 6   FMRKTPTH16          3141 non-null   float64\n",
      " 7   PCH_FMRKTPTH_09_16  2592 non-null   float64\n",
      " 8   FMRKT_SNAP16        2248 non-null   float64\n",
      " 9   PCT_FMRKT_SNAP16    2248 non-null   float64\n",
      "dtypes: float64(7), int64(1), object(2)\n",
      "memory usage: 245.7+ KB\n",
      "None\n"
     ]
    }
   ],
   "source": [
    "print(County.info())\n",
    "print(Access.info())\n",
    "print(Stores.info())\n",
    "print(Assistance.info())\n",
    "print(Local.info())"
   ]
  },
  {
   "cell_type": "code",
   "execution_count": 10,
   "id": "017efa25",
   "metadata": {},
   "outputs": [],
   "source": [
    "master = County.merge(Access, on = ['State', 'County']).merge(Stores, on = ['State', 'County']).merge(Assistance, on = ['State', 'County']).merge(Local, on = ['State', 'County'])"
   ]
  },
  {
   "cell_type": "code",
   "execution_count": 15,
   "id": "4b22af92",
   "metadata": {},
   "outputs": [
    {
     "data": {
      "image/png": "[encoded data removed]",
      "text/plain": [
       "<Figure size 432x288 with 1 Axes>"
      ]
     },
     "metadata": {
      "needs_background": "light"
     },
     "output_type": "display_data"
    }
   ],
   "source": [
    "plt.scatter(x = 'PCT_LACCESS_POP15' , y = 'PCT_LACCESS_SNAP15', data = master)\n",
    "plt.title('pct low access vs pct low access SNAP')\n",
    "plt.xlabel('pct low access')\n",
    "plt.ylabel('pct low access SNAP')\n",
    "plt.show()"
   ]
  },
  {
   "cell_type": "code",
   "execution_count": null,
   "id": "3d5aede2",
   "metadata": {},
   "outputs": [],
   "source": []
  }
 ],
 "metadata": {
  "kernelspec": {
   "display_name": "Python 3 (ipykernel)",
   "language": "python",
   "name": "python3"
  },
  "language_info": {
   "codemirror_mode": {
    "name": "ipython",
    "version": 3
   },
   "file_extension": ".py",
   "mimetype": "text/x-python",
   "name": "python",
   "nbconvert_exporter": "python",
   "pygments_lexer": "ipython3",
   "version": "3.9.9"
  }
 },
 "nbformat": 4,
 "nbformat_minor": 5
}
