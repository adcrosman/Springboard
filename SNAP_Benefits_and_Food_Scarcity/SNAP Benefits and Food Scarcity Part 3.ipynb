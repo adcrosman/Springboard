{
 "cells": [
  {
   "cell_type": "markdown",
   "id": "d4518469",
   "metadata": {},
   "source": [
    "# Environment Set Up"
   ]
  },
  {
   "cell_type": "code",
   "execution_count": 1,
   "id": "82a7883b",
   "metadata": {},
   "outputs": [],
   "source": [
    "import matplotlib.pyplot as plt\n",
    "import numpy as np\n",
    "import pandas as pd\n",
    "from pandas_profiling import ProfileReport\n",
    "import seaborn as sns\n",
    "from sklearn import ensemble, tree, metrics\n",
    "#from sklearn.metrics import mean_squared_error, r2_score\n",
    "from sklearn.model_selection import train_test_split\n",
    "from sklearn import linear_model, preprocessing\n",
    "from sklearn.pipeline import make_pipeline\n",
    "from sklearn.preprocessing import StandardScaler\n",
    "from sklearn.linear_model import LinearRegression\n",
    "from io import StringIO  \n",
    "from IPython.display import Image  \n",
    "import pydotplus\n",
    "%matplotlib inline\n",
    "data = pd.ExcelFile('DataDownload.xls')"
   ]
  },
  {
   "cell_type": "markdown",
   "id": "a778f727",
   "metadata": {},
   "source": [
    "Re-creating the master dataframe."
   ]
  },
  {
   "cell_type": "code",
   "execution_count": 2,
   "id": "09f70ac4",
   "metadata": {},
   "outputs": [],
   "source": [
    "assistance = data.parse('ASSISTANCE')\n",
    "assistance_sub = assistance[['State',\n",
    "                             'County',\n",
    "                             'REDEMP_SNAPS12',\n",
    "                             'PCT_SNAP12',\n",
    "                             'PC_SNAPBEN10',\n",
    "                             'PC_SNAPBEN15',\n",
    "                             'SNAP_PART_RATE13',\n",
    "                             'PCT_FREE_LUNCH14',\n",
    "                             'PCT_REDUCED_LUNCH14',\n",
    "                             'PC_WIC_REDEMP12',\n",
    "                             'REDEMP_WICS12'\n",
    "                            ]]"
   ]
  },
  {
   "cell_type": "code",
   "execution_count": 3,
   "id": "16e6a6eb",
   "metadata": {},
   "outputs": [],
   "source": [
    "access = data.parse('ACCESS')\n",
    "access_sub = access[['State',\n",
    "                     'County',\n",
    "                     'LACCESS_POP10',\n",
    "                     'PCT_LACCESS_POP10',\n",
    "                     'LACCESS_LOWI10',\n",
    "                     'PCT_LACCESS_LOWI10',\n",
    "                     'LACCESS_HHNV10',\n",
    "                     'PCT_LACCESS_HHNV10',\n",
    "                     'LACCESS_SNAP15',\n",
    "                     'PCT_LACCESS_SNAP15',\n",
    "                     'LACCESS_CHILD10',\n",
    "                     'PCT_LACCESS_CHILD10',\n",
    "                     'LACCESS_SENIORS10',\n",
    "                     'PCT_LACCESS_SENIORS10'\n",
    "                     ]]"
   ]
  },
  {
   "cell_type": "code",
   "execution_count": 4,
   "id": "72149e14",
   "metadata": {},
   "outputs": [],
   "source": [
    "stores = data.parse('STORES')\n",
    "stores_sub = stores[['State',\n",
    "                     'County',\n",
    "                     'GROC14',\n",
    "                     'GROCPTH14',\n",
    "                     'SUPERC14',\n",
    "                     'SUPERCPTH14',\n",
    "                     'CONVS14',\n",
    "                     'CONVSPTH14',\n",
    "                     'SPECS14',\n",
    "                     'SPECSPTH14',\n",
    "                     'SNAPS12',\n",
    "                     'SNAPSPTH12',\n",
    "                     'WICS12',\n",
    "                     'WICSPTH12'\n",
    "                    ]]"
   ]
  },
  {
   "cell_type": "code",
   "execution_count": 5,
   "id": "886cd183",
   "metadata": {},
   "outputs": [],
   "source": [
    "restaurants = data.parse('RESTAURANTS')\n",
    "restaurants_sub = restaurants[['State',\n",
    "                               'County',\n",
    "                               'FFR14',\n",
    "                               'FFRPTH14',\n",
    "                               'FSR14',\n",
    "                               'FSRPTH14',\n",
    "                               'PC_FFRSALES12',\n",
    "                               'PC_FSRSALES12'\n",
    "                              ]]"
   ]
  },
  {
   "cell_type": "code",
   "execution_count": 6,
   "id": "9e9b6e5f",
   "metadata": {},
   "outputs": [],
   "source": [
    "insecurity = data.parse('INSECURITY')\n",
    "insecurity_sub = insecurity[['State',\n",
    "                             'County',\n",
    "                             'FOODINSEC_10_12',\n",
    "                             'VLFOODSEC_10_12',\n",
    "                             'FOODINSEC_CHILD_03_11'\n",
    "                            ]]"
   ]
  },
  {
   "cell_type": "code",
   "execution_count": 7,
   "id": "bff494ab",
   "metadata": {},
   "outputs": [],
   "source": [
    "df = data.parse('Supplemental Data - County')\n",
    "county = df[['State', 'County', '2010 Census Population', 'Population Estimate, 2011', \n",
    "              'Population Estimate, 2012', 'Population Estimate, 2013', \n",
    "              'Population Estimate, 2014', 'Population Estimate, 2015']].copy()\n",
    "\n",
    "# Convert strings in pandas series (columns in the dataframe) where values containe a comma into numerical values.\n",
    "\n",
    "def remove_comma_from_series(var):\n",
    "    \"\"\"Parameters\n",
    "        ---------\n",
    "        var: pandas Series\n",
    "        \n",
    "        For each element of the series, this function will replace every instance of a comma with nothing,\n",
    "        as represented by the empty quotation marks.  It will then turn the resulting string into an integer.\n",
    "        Finally, it will return the integer.\n",
    "    \"\"\"\n",
    "    \n",
    "    new_var = [int(x.replace(\",\", \"\")) for x in var ]\n",
    "    \n",
    "    return new_var\n",
    "\n",
    "# The first two columns list the state and country rather than any numeric values,\n",
    "# so they'd trigger errors in our function.\n",
    "# I'm sure there's a prettier way of skipping them than plugging the function into a try-except block,\n",
    "# but it works.\n",
    "\n",
    "for x in county:\n",
    "    try:\n",
    "        county[x] = remove_comma_from_series(county[x])\n",
    "    except:\n",
    "        continue"
   ]
  },
  {
   "cell_type": "code",
   "execution_count": 8,
   "id": "64c3afe3",
   "metadata": {},
   "outputs": [],
   "source": [
    "master = county.merge(assistance_sub, on = ['State', 'County'])\\\n",
    "    .merge(access_sub, on = ['State', 'County'])\\\n",
    "    .merge(stores_sub, on = ['State', 'County'])\\\n",
    "    .merge(restaurants_sub, on = ['State', 'County'])\\\n",
    "    .merge(insecurity, on = ['State', 'County'])"
   ]
  },
  {
   "cell_type": "code",
   "execution_count": 9,
   "id": "286ba077",
   "metadata": {},
   "outputs": [],
   "source": [
    "master_subset = master[['2010 Census Population', 'PC_SNAPBEN10', 'PC_SNAPBEN15',\n",
    "                             'REDEMP_SNAPS12',\n",
    "                             'PCT_SNAP12',\n",
    "                             'PCT_FREE_LUNCH14',\n",
    "                             'PC_WIC_REDEMP12',\n",
    "                             'PCT_LACCESS_HHNV10',\n",
    "                             'PCT_LACCESS_SNAP15',\n",
    "                             'SNAPSPTH12']].copy()"
   ]
  },
  {
   "cell_type": "markdown",
   "id": "c8b61cd5",
   "metadata": {},
   "source": [
    "# Pre-Processing"
   ]
  },
  {
   "cell_type": "markdown",
   "id": "74694b5a",
   "metadata": {},
   "source": [
    "Let's take a look at our features here."
   ]
  },
  {
   "cell_type": "code",
   "execution_count": 10,
   "id": "52cbddd8",
   "metadata": {},
   "outputs": [
    {
     "data": {
      "text/html": [
       "<div>\n",
       "<style scoped>\n",
       "    .dataframe tbody tr th:only-of-type {\n",
       "        vertical-align: middle;\n",
       "    }\n",
       "\n",
       "    .dataframe tbody tr th {\n",
       "        vertical-align: top;\n",
       "    }\n",
       "\n",
       "    .dataframe thead th {\n",
       "        text-align: right;\n",
       "    }\n",
       "</style>\n",
       "<table border=\"1\" class=\"dataframe\">\n",
       "  <thead>\n",
       "    <tr style=\"text-align: right;\">\n",
       "      <th></th>\n",
       "      <th>2010 Census Population</th>\n",
       "      <th>PC_SNAPBEN10</th>\n",
       "      <th>PC_SNAPBEN15</th>\n",
       "      <th>REDEMP_SNAPS12</th>\n",
       "      <th>PCT_SNAP12</th>\n",
       "      <th>PCT_FREE_LUNCH14</th>\n",
       "      <th>PC_WIC_REDEMP12</th>\n",
       "      <th>PCT_LACCESS_HHNV10</th>\n",
       "      <th>PCT_LACCESS_SNAP15</th>\n",
       "      <th>SNAPSPTH12</th>\n",
       "    </tr>\n",
       "  </thead>\n",
       "  <tbody>\n",
       "    <tr>\n",
       "      <th>count</th>\n",
       "      <td>3.545000e+03</td>\n",
       "      <td>3323.000000</td>\n",
       "      <td>3322.000000</td>\n",
       "      <td>3.303000e+03</td>\n",
       "      <td>3545.000000</td>\n",
       "      <td>3261.000000</td>\n",
       "      <td>2329.000000</td>\n",
       "      <td>3545.000000</td>\n",
       "      <td>3510.000000</td>\n",
       "      <td>3545.000000</td>\n",
       "    </tr>\n",
       "    <tr>\n",
       "      <th>mean</th>\n",
       "      <td>1.254355e+05</td>\n",
       "      <td>19.170410</td>\n",
       "      <td>18.193191</td>\n",
       "      <td>2.604695e+05</td>\n",
       "      <td>14.792725</td>\n",
       "      <td>46.809334</td>\n",
       "      <td>18.833608</td>\n",
       "      <td>3.089957</td>\n",
       "      <td>2.900668</td>\n",
       "      <td>0.892714</td>\n",
       "    </tr>\n",
       "    <tr>\n",
       "      <th>std</th>\n",
       "      <td>3.303254e+05</td>\n",
       "      <td>10.064305</td>\n",
       "      <td>10.016449</td>\n",
       "      <td>1.285998e+05</td>\n",
       "      <td>3.578200</td>\n",
       "      <td>19.628149</td>\n",
       "      <td>9.649484</td>\n",
       "      <td>3.156376</td>\n",
       "      <td>3.340849</td>\n",
       "      <td>0.394623</td>\n",
       "    </tr>\n",
       "    <tr>\n",
       "      <th>min</th>\n",
       "      <td>8.200000e+01</td>\n",
       "      <td>1.013588</td>\n",
       "      <td>0.863202</td>\n",
       "      <td>0.000000e+00</td>\n",
       "      <td>5.866367</td>\n",
       "      <td>0.000000</td>\n",
       "      <td>0.139449</td>\n",
       "      <td>0.000000</td>\n",
       "      <td>0.000000</td>\n",
       "      <td>0.000000</td>\n",
       "    </tr>\n",
       "    <tr>\n",
       "      <th>25%</th>\n",
       "      <td>1.167700e+04</td>\n",
       "      <td>11.532682</td>\n",
       "      <td>11.000109</td>\n",
       "      <td>1.682281e+05</td>\n",
       "      <td>11.167431</td>\n",
       "      <td>32.870339</td>\n",
       "      <td>12.803340</td>\n",
       "      <td>1.494702</td>\n",
       "      <td>1.039961</td>\n",
       "      <td>0.619041</td>\n",
       "    </tr>\n",
       "    <tr>\n",
       "      <th>50%</th>\n",
       "      <td>2.874400e+04</td>\n",
       "      <td>17.850521</td>\n",
       "      <td>16.368016</td>\n",
       "      <td>2.568591e+05</td>\n",
       "      <td>15.223027</td>\n",
       "      <td>43.826889</td>\n",
       "      <td>17.167160</td>\n",
       "      <td>2.467509</td>\n",
       "      <td>2.031962</td>\n",
       "      <td>0.828739</td>\n",
       "    </tr>\n",
       "    <tr>\n",
       "      <th>75%</th>\n",
       "      <td>8.883000e+04</td>\n",
       "      <td>24.731519</td>\n",
       "      <td>23.298009</td>\n",
       "      <td>3.372874e+05</td>\n",
       "      <td>17.517380</td>\n",
       "      <td>56.975381</td>\n",
       "      <td>22.690820</td>\n",
       "      <td>3.767519</td>\n",
       "      <td>3.563250</td>\n",
       "      <td>1.090513</td>\n",
       "    </tr>\n",
       "    <tr>\n",
       "      <th>max</th>\n",
       "      <td>9.818605e+06</td>\n",
       "      <td>76.284852</td>\n",
       "      <td>100.139353</td>\n",
       "      <td>1.253321e+06</td>\n",
       "      <td>22.131516</td>\n",
       "      <td>100.000000</td>\n",
       "      <td>131.366500</td>\n",
       "      <td>68.470405</td>\n",
       "      <td>37.254488</td>\n",
       "      <td>6.658001</td>\n",
       "    </tr>\n",
       "  </tbody>\n",
       "</table>\n",
       "</div>"
      ],
      "text/plain": [
       "       2010 Census Population  PC_SNAPBEN10  PC_SNAPBEN15  REDEMP_SNAPS12  \\\n",
       "count            3.545000e+03   3323.000000   3322.000000    3.303000e+03   \n",
       "mean             1.254355e+05     19.170410     18.193191    2.604695e+05   \n",
       "std              3.303254e+05     10.064305     10.016449    1.285998e+05   \n",
       "min              8.200000e+01      1.013588      0.863202    0.000000e+00   \n",
       "25%              1.167700e+04     11.532682     11.000109    1.682281e+05   \n",
       "50%              2.874400e+04     17.850521     16.368016    2.568591e+05   \n",
       "75%              8.883000e+04     24.731519     23.298009    3.372874e+05   \n",
       "max              9.818605e+06     76.284852    100.139353    1.253321e+06   \n",
       "\n",
       "        PCT_SNAP12  PCT_FREE_LUNCH14  PC_WIC_REDEMP12  PCT_LACCESS_HHNV10  \\\n",
       "count  3545.000000       3261.000000      2329.000000         3545.000000   \n",
       "mean     14.792725         46.809334        18.833608            3.089957   \n",
       "std       3.578200         19.628149         9.649484            3.156376   \n",
       "min       5.866367          0.000000         0.139449            0.000000   \n",
       "25%      11.167431         32.870339        12.803340            1.494702   \n",
       "50%      15.223027         43.826889        17.167160            2.467509   \n",
       "75%      17.517380         56.975381        22.690820            3.767519   \n",
       "max      22.131516        100.000000       131.366500           68.470405   \n",
       "\n",
       "       PCT_LACCESS_SNAP15   SNAPSPTH12  \n",
       "count         3510.000000  3545.000000  \n",
       "mean             2.900668     0.892714  \n",
       "std              3.340849     0.394623  \n",
       "min              0.000000     0.000000  \n",
       "25%              1.039961     0.619041  \n",
       "50%              2.031962     0.828739  \n",
       "75%              3.563250     1.090513  \n",
       "max             37.254488     6.658001  "
      ]
     },
     "execution_count": 10,
     "metadata": {},
     "output_type": "execute_result"
    }
   ],
   "source": [
    "master_subset.describe()"
   ]
  },
  {
   "cell_type": "markdown",
   "id": "9047553f",
   "metadata": {},
   "source": [
    "### 1) Clean Up Target Feature\n",
    "\n",
    "What we're trying to do will require that there be no null values within our dataset, so let's check that."
   ]
  },
  {
   "cell_type": "code",
   "execution_count": 11,
   "id": "7d88f173",
   "metadata": {},
   "outputs": [
    {
     "data": {
      "text/plain": [
       "2010 Census Population       0\n",
       "PC_SNAPBEN10               222\n",
       "PC_SNAPBEN15               223\n",
       "REDEMP_SNAPS12             242\n",
       "PCT_SNAP12                   0\n",
       "PCT_FREE_LUNCH14           284\n",
       "PC_WIC_REDEMP12           1216\n",
       "PCT_LACCESS_HHNV10           0\n",
       "PCT_LACCESS_SNAP15          35\n",
       "SNAPSPTH12                   0\n",
       "dtype: int64"
      ]
     },
     "execution_count": 11,
     "metadata": {},
     "output_type": "execute_result"
    }
   ],
   "source": [
    "master_subset.isna().sum()"
   ]
  },
  {
   "cell_type": "markdown",
   "id": "558f6be0",
   "metadata": {},
   "source": [
    "PC_WIC_REDEMP12 looks like it's going to be a problem, but we've got more important things to sort out first.  There's no use in predicting values that don't exist, so let's drop the null values from our target feature."
   ]
  },
  {
   "cell_type": "code",
   "execution_count": 12,
   "id": "3822ad14",
   "metadata": {},
   "outputs": [],
   "source": [
    "master_subset.dropna(subset='PC_SNAPBEN15', inplace=True)"
   ]
  },
  {
   "cell_type": "markdown",
   "id": "b2a88e42",
   "metadata": {},
   "source": [
    "### 2) Fill In the Blanks\n",
    "\n",
    "Now let's take a look at how much of the columns are missing, percentage-wise."
   ]
  },
  {
   "cell_type": "code",
   "execution_count": 13,
   "id": "b40f46a5",
   "metadata": {},
   "outputs": [
    {
     "data": {
      "text/plain": [
       "2010 Census Population    0.000000\n",
       "PC_SNAPBEN10              0.000602\n",
       "PC_SNAPBEN15              0.000000\n",
       "REDEMP_SNAPS12            0.067429\n",
       "PCT_SNAP12                0.000000\n",
       "PCT_FREE_LUNCH14          0.076159\n",
       "PC_WIC_REDEMP12           0.337146\n",
       "PCT_LACCESS_HHNV10        0.000000\n",
       "PCT_LACCESS_SNAP15        0.007827\n",
       "SNAPSPTH12                0.000000\n",
       "dtype: float64"
      ]
     },
     "execution_count": 13,
     "metadata": {},
     "output_type": "execute_result"
    }
   ],
   "source": [
    "master_subset.isna().mean()"
   ]
  },
  {
   "cell_type": "markdown",
   "id": "ff4f6fb5",
   "metadata": {},
   "source": [
    "PC_WIC_REDEMP12 is missing roughly a third of the data, so we'll handle that separately, but the rest can probably be filled with just the mean of each column.  If you want more precise data you may want to consier looking at the values broken down by region or state, but we don't need to be that granular here."
   ]
  },
  {
   "cell_type": "code",
   "execution_count": 14,
   "id": "d0a7a75e",
   "metadata": {},
   "outputs": [],
   "source": [
    "columns = ['2010 Census Population', 'PC_SNAPBEN10',\n",
    "                             'REDEMP_SNAPS12',\n",
    "                             'PCT_SNAP12',\n",
    "                             'PCT_FREE_LUNCH14',\n",
    "                              'PCT_LACCESS_HHNV10',\n",
    "                             'PCT_LACCESS_SNAP15',\n",
    "                             'SNAPSPTH12']\n",
    "for c in columns:\n",
    "    master_subset[c].fillna(master_subset[c].mean(), inplace=True)"
   ]
  },
  {
   "cell_type": "code",
   "execution_count": 15,
   "id": "60d97c1e",
   "metadata": {},
   "outputs": [
    {
     "data": {
      "text/plain": [
       "2010 Census Population    0.000000\n",
       "PC_SNAPBEN10              0.000000\n",
       "PC_SNAPBEN15              0.000000\n",
       "REDEMP_SNAPS12            0.000000\n",
       "PCT_SNAP12                0.000000\n",
       "PCT_FREE_LUNCH14          0.000000\n",
       "PC_WIC_REDEMP12           0.337146\n",
       "PCT_LACCESS_HHNV10        0.000000\n",
       "PCT_LACCESS_SNAP15        0.000000\n",
       "SNAPSPTH12                0.000000\n",
       "dtype: float64"
      ]
     },
     "execution_count": 15,
     "metadata": {},
     "output_type": "execute_result"
    }
   ],
   "source": [
    "master_subset.isna().mean()"
   ]
  },
  {
   "cell_type": "markdown",
   "id": "47ea92a0",
   "metadata": {},
   "source": [
    "Much better.  Now let's look closer at our problem column."
   ]
  },
  {
   "cell_type": "code",
   "execution_count": 16,
   "id": "cb9e5b2e",
   "metadata": {},
   "outputs": [
    {
     "data": {
      "text/plain": [
       "(array([5.940e+02, 1.249e+03, 2.980e+02, 4.900e+01, 5.000e+00, 4.000e+00,\n",
       "        1.000e+00, 1.000e+00, 0.000e+00, 1.000e+00]),\n",
       " array([  0.1394494 ,  13.26215446,  26.38485952,  39.50756458,\n",
       "         52.63026964,  65.7529747 ,  78.87567976,  91.99838482,\n",
       "        105.12108988, 118.24379494, 131.3665    ]),\n",
       " <BarContainer object of 10 artists>)"
      ]
     },
     "execution_count": 16,
     "metadata": {},
     "output_type": "execute_result"
    },
    {
     "data": {
      "image/png": "[encoded data removed]",
      "text/plain": [
       "<Figure size 432x288 with 1 Axes>"
      ]
     },
     "metadata": {
      "needs_background": "light"
     },
     "output_type": "display_data"
    }
   ],
   "source": [
    "plt.hist(master_subset['PC_WIC_REDEMP12'])"
   ]
  },
  {
   "cell_type": "code",
   "execution_count": 17,
   "id": "7ed58682",
   "metadata": {},
   "outputs": [
    {
     "data": {
      "text/plain": [
       "count    2202.000000\n",
       "mean       18.944331\n",
       "std         9.373263\n",
       "min         0.139449\n",
       "25%        12.918743\n",
       "50%        17.304405\n",
       "75%        22.959302\n",
       "max       131.366500\n",
       "Name: PC_WIC_REDEMP12, dtype: float64"
      ]
     },
     "execution_count": 17,
     "metadata": {},
     "output_type": "execute_result"
    }
   ],
   "source": [
    "master_subset['PC_WIC_REDEMP12'].describe()"
   ]
  },
  {
   "cell_type": "markdown",
   "id": "69906f0a",
   "metadata": {},
   "source": [
    "It's not as bad as it could have been; there are some extreme values on the high end, so it seems like if we just substitute the median for the mean, that should do well enough for our purposes"
   ]
  },
  {
   "cell_type": "code",
   "execution_count": 18,
   "id": "d50515e8",
   "metadata": {},
   "outputs": [],
   "source": [
    "master_subset.fillna(value=master_subset['PC_WIC_REDEMP12'].median(), inplace=True)"
   ]
  },
  {
   "cell_type": "code",
   "execution_count": 19,
   "id": "c528754f",
   "metadata": {},
   "outputs": [
    {
     "data": {
      "text/plain": [
       "2010 Census Population    0.0\n",
       "PC_SNAPBEN10              0.0\n",
       "PC_SNAPBEN15              0.0\n",
       "REDEMP_SNAPS12            0.0\n",
       "PCT_SNAP12                0.0\n",
       "PCT_FREE_LUNCH14          0.0\n",
       "PC_WIC_REDEMP12           0.0\n",
       "PCT_LACCESS_HHNV10        0.0\n",
       "PCT_LACCESS_SNAP15        0.0\n",
       "SNAPSPTH12                0.0\n",
       "dtype: float64"
      ]
     },
     "execution_count": 19,
     "metadata": {},
     "output_type": "execute_result"
    }
   ],
   "source": [
    "master_subset.isna().mean()"
   ]
  },
  {
   "cell_type": "markdown",
   "id": "8b5cb11f",
   "metadata": {},
   "source": [
    "Now we can really get to work."
   ]
  },
  {
   "cell_type": "markdown",
   "id": "fb5d4d54",
   "metadata": {},
   "source": [
    "# Training and Testing"
   ]
  },
  {
   "cell_type": "code",
   "execution_count": 20,
   "id": "1b4b4cc2",
   "metadata": {},
   "outputs": [
    {
     "data": {
      "text/plain": [
       "<AxesSubplot:>"
      ]
     },
     "execution_count": 20,
     "metadata": {},
     "output_type": "execute_result"
    },
    {
     "data": {
      "image/png": "[encoded data removed]",
      "text/plain": [
       "<Figure size 2880x1440 with 2 Axes>"
      ]
     },
     "metadata": {
      "needs_background": "light"
     },
     "output_type": "display_data"
    }
   ],
   "source": [
    "plt.figure(figsize=(40, 20))\n",
    "sns.heatmap(master_subset.corr(), annot=True)"
   ]
  },
  {
   "cell_type": "markdown",
   "id": "25037075",
   "metadata": {},
   "source": [
    "The heatmap above gives us a rough idea of what we're looking at; unsurprisingly, the strongest correlations are between PC_SNAPBEN10 and PC_SNAPBEN15, though PCT_FREE_LUNCH14 also stands out with a correlation of .77.  PC_WIC_REDEMP12 and SNAPSPTH12 both have correlations of slightly over .50, and the rest hover between low .4 and .3, so they may still be of use."
   ]
  },
  {
   "cell_type": "markdown",
   "id": "f44a2f4a",
   "metadata": {},
   "source": [
    "### 1) Start Simple\n",
    "\n",
    "Let's start with just PC_SNAPBEN10 and PC_SNAPBEN15, using a linear regression.  It's good to start with something simple, and the relationship between them seems to be mostly linear."
   ]
  },
  {
   "cell_type": "code",
   "execution_count": 21,
   "id": "988e9697",
   "metadata": {},
   "outputs": [],
   "source": [
    "X = master_subset[['PC_SNAPBEN10']]\n",
    "y = master_subset[['PC_SNAPBEN15']]\n",
    "X_train, X_test, y_train, y_test = train_test_split(X, y, test_size = 0.25, random_state = 123)"
   ]
  },
  {
   "cell_type": "code",
   "execution_count": 22,
   "id": "e32e97a2",
   "metadata": {},
   "outputs": [
    {
     "name": "stdout",
     "output_type": "stream",
     "text": [
      "(2491, 1) (2491, 1)\n",
      "(831, 1) (831, 1)\n"
     ]
    }
   ],
   "source": [
    "print(X_train.shape, y_train.shape)\n",
    "print(X_test.shape, y_test.shape)"
   ]
  },
  {
   "cell_type": "code",
   "execution_count": 23,
   "id": "5df156c7",
   "metadata": {},
   "outputs": [],
   "source": [
    "model = make_pipeline(StandardScaler(with_mean=False), LinearRegression())"
   ]
  },
  {
   "cell_type": "code",
   "execution_count": 24,
   "id": "011ef701",
   "metadata": {},
   "outputs": [
    {
     "data": {
      "text/html": [
       "<style>#sk-container-id-1 {color: black;background-color: white;}#sk-container-id-1 pre{padding: 0;}#sk-container-id-1 div.sk-toggleable {background-color: white;}#sk-container-id-1 label.sk-toggleable__label {cursor: pointer;display: block;width: 100%;margin-bottom: 0;padding: 0.3em;box-sizing: border-box;text-align: center;}#sk-container-id-1 label.sk-toggleable__label-arrow:before {content: \"▸\";float: left;margin-right: 0.25em;color: #696969;}#sk-container-id-1 label.sk-toggleable__label-arrow:hover:before {color: black;}#sk-container-id-1 div.sk-estimator:hover label.sk-toggleable__label-arrow:before {color: black;}#sk-container-id-1 div.sk-toggleable__content {max-height: 0;max-width: 0;overflow: hidden;text-align: left;background-color: #f0f8ff;}#sk-container-id-1 div.sk-toggleable__content pre {margin: 0.2em;color: black;border-radius: 0.25em;background-color: #f0f8ff;}#sk-container-id-1 input.sk-toggleable__control:checked~div.sk-toggleable__content {max-height: 200px;max-width: 100%;overflow: auto;}#sk-container-id-1 input.sk-toggleable__control:checked~label.sk-toggleable__label-arrow:before {content: \"▾\";}#sk-container-id-1 div.sk-estimator input.sk-toggleable__control:checked~label.sk-toggleable__label {background-color: #d4ebff;}#sk-container-id-1 div.sk-label input.sk-toggleable__control:checked~label.sk-toggleable__label {background-color: #d4ebff;}#sk-container-id-1 input.sk-hidden--visually {border: 0;clip: rect(1px 1px 1px 1px);clip: rect(1px, 1px, 1px, 1px);height: 1px;margin: -1px;overflow: hidden;padding: 0;position: absolute;width: 1px;}#sk-container-id-1 div.sk-estimator {font-family: monospace;background-color: #f0f8ff;border: 1px dotted black;border-radius: 0.25em;box-sizing: border-box;margin-bottom: 0.5em;}#sk-container-id-1 div.sk-estimator:hover {background-color: #d4ebff;}#sk-container-id-1 div.sk-parallel-item::after {content: \"\";width: 100%;border-bottom: 1px solid gray;flex-grow: 1;}#sk-container-id-1 div.sk-label:hover label.sk-toggleable__label {background-color: #d4ebff;}#sk-container-id-1 div.sk-serial::before {content: \"\";position: absolute;border-left: 1px solid gray;box-sizing: border-box;top: 0;bottom: 0;left: 50%;z-index: 0;}#sk-container-id-1 div.sk-serial {display: flex;flex-direction: column;align-items: center;background-color: white;padding-right: 0.2em;padding-left: 0.2em;position: relative;}#sk-container-id-1 div.sk-item {position: relative;z-index: 1;}#sk-container-id-1 div.sk-parallel {display: flex;align-items: stretch;justify-content: center;background-color: white;position: relative;}#sk-container-id-1 div.sk-item::before, #sk-container-id-1 div.sk-parallel-item::before {content: \"\";position: absolute;border-left: 1px solid gray;box-sizing: border-box;top: 0;bottom: 0;left: 50%;z-index: -1;}#sk-container-id-1 div.sk-parallel-item {display: flex;flex-direction: column;z-index: 1;position: relative;background-color: white;}#sk-container-id-1 div.sk-parallel-item:first-child::after {align-self: flex-end;width: 50%;}#sk-container-id-1 div.sk-parallel-item:last-child::after {align-self: flex-start;width: 50%;}#sk-container-id-1 div.sk-parallel-item:only-child::after {width: 0;}#sk-container-id-1 div.sk-dashed-wrapped {border: 1px dashed gray;margin: 0 0.4em 0.5em 0.4em;box-sizing: border-box;padding-bottom: 0.4em;background-color: white;}#sk-container-id-1 div.sk-label label {font-family: monospace;font-weight: bold;display: inline-block;line-height: 1.2em;}#sk-container-id-1 div.sk-label-container {text-align: center;}#sk-container-id-1 div.sk-container {/* jupyter's `normalize.less` sets `[hidden] { display: none; }` but bootstrap.min.css set `[hidden] { display: none !important; }` so we also need the `!important` here to be able to override the default hidden behavior on the sphinx rendered scikit-learn.org. See: https://github.com/scikit-learn/scikit-learn/issues/21755 */display: inline-block !important;position: relative;}#sk-container-id-1 div.sk-text-repr-fallback {display: none;}</style><div id=\"sk-container-id-1\" class=\"sk-top-container\"><div class=\"sk-text-repr-fallback\"><pre>Pipeline(steps=[(&#x27;standardscaler&#x27;, StandardScaler(with_mean=False)),\n",
       "                (&#x27;linearregression&#x27;, LinearRegression())])</pre><b>In a Jupyter environment, please rerun this cell to show the HTML representation or trust the notebook. <br />On GitHub, the HTML representation is unable to render, please try loading this page with nbviewer.org.</b></div><div class=\"sk-container\" hidden><div class=\"sk-item sk-dashed-wrapped\"><div class=\"sk-label-container\"><div class=\"sk-label sk-toggleable\"><input class=\"sk-toggleable__control sk-hidden--visually\" id=\"sk-estimator-id-1\" type=\"checkbox\" ><label for=\"sk-estimator-id-1\" class=\"sk-toggleable__label sk-toggleable__label-arrow\">Pipeline</label><div class=\"sk-toggleable__content\"><pre>Pipeline(steps=[(&#x27;standardscaler&#x27;, StandardScaler(with_mean=False)),\n",
       "                (&#x27;linearregression&#x27;, LinearRegression())])</pre></div></div></div><div class=\"sk-serial\"><div class=\"sk-item\"><div class=\"sk-estimator sk-toggleable\"><input class=\"sk-toggleable__control sk-hidden--visually\" id=\"sk-estimator-id-2\" type=\"checkbox\" ><label for=\"sk-estimator-id-2\" class=\"sk-toggleable__label sk-toggleable__label-arrow\">StandardScaler</label><div class=\"sk-toggleable__content\"><pre>StandardScaler(with_mean=False)</pre></div></div></div><div class=\"sk-item\"><div class=\"sk-estimator sk-toggleable\"><input class=\"sk-toggleable__control sk-hidden--visually\" id=\"sk-estimator-id-3\" type=\"checkbox\" ><label for=\"sk-estimator-id-3\" class=\"sk-toggleable__label sk-toggleable__label-arrow\">LinearRegression</label><div class=\"sk-toggleable__content\"><pre>LinearRegression()</pre></div></div></div></div></div></div></div>"
      ],
      "text/plain": [
       "Pipeline(steps=[('standardscaler', StandardScaler(with_mean=False)),\n",
       "                ('linearregression', LinearRegression())])"
      ]
     },
     "execution_count": 24,
     "metadata": {},
     "output_type": "execute_result"
    }
   ],
   "source": [
    "model.fit(X_train, y_train)"
   ]
  },
  {
   "cell_type": "code",
   "execution_count": 25,
   "id": "63f586de",
   "metadata": {},
   "outputs": [
    {
     "name": "stdout",
     "output_type": "stream",
     "text": [
      "0.8920743467708192\n"
     ]
    }
   ],
   "source": [
    "print(model.score(X_train, y_train))"
   ]
  },
  {
   "cell_type": "code",
   "execution_count": 26,
   "id": "62e5f0e0",
   "metadata": {},
   "outputs": [],
   "source": [
    "y_pred = model.predict(X_test)"
   ]
  },
  {
   "cell_type": "code",
   "execution_count": 27,
   "id": "e0c5ee29",
   "metadata": {},
   "outputs": [
    {
     "data": {
      "text/plain": [
       "<matplotlib.collections.PathCollection at 0x2d04b149340>"
      ]
     },
     "execution_count": 27,
     "metadata": {},
     "output_type": "execute_result"
    },
    {
     "data": {
      "image/png": "[encoded data removed]",
      "text/plain": [
       "<Figure size 432x288 with 1 Axes>"
      ]
     },
     "metadata": {
      "needs_background": "light"
     },
     "output_type": "display_data"
    }
   ],
   "source": [
    "plt.scatter(y_test,y_pred)"
   ]
  },
  {
   "cell_type": "markdown",
   "id": "76af2e00",
   "metadata": {},
   "source": [
    "As you can see above, there's a fairly clear linear relationship between PC_SNAPBEN10 and PC_SNAPBEN15, though there certainly are some outliers.  This should give us a decent baseline: it's a simple but effective model, and so any more complicated model will have to do better than this to be worth using.  \"Better\" is, of course, a vague term, so for the purposes of this project when I say \"better\" I mean we will try to minimise the mean squared error, as this will give us a quantifiable metric to compare all the models we generate."
   ]
  },
  {
   "cell_type": "code",
   "execution_count": 28,
   "id": "0323ac6e",
   "metadata": {},
   "outputs": [
    {
     "name": "stdout",
     "output_type": "stream",
     "text": [
      "0.8789014575983095\n"
     ]
    }
   ],
   "source": [
    "print(model.score(X_test, y_test))"
   ]
  },
  {
   "cell_type": "code",
   "execution_count": 29,
   "id": "7b3b8423",
   "metadata": {},
   "outputs": [
    {
     "data": {
      "text/plain": [
       "12.641348655101416"
      ]
     },
     "execution_count": 29,
     "metadata": {},
     "output_type": "execute_result"
    }
   ],
   "source": [
    "metrics.mean_squared_error(y_test, y_pred)"
   ]
  },
  {
   "cell_type": "markdown",
   "id": "0e5c299c",
   "metadata": {},
   "source": [
    "Now that we have a mean squared error of about 12.64, we can start exploring more complicated models to see if we can do better."
   ]
  },
  {
   "cell_type": "markdown",
   "id": "cb68ad92",
   "metadata": {},
   "source": [
    "### 2) Bring In the Other Features\n",
    "\n",
    "Let's start with multivariable regression, as it can hopefully use some of the other features to make the model more accurate."
   ]
  },
  {
   "cell_type": "code",
   "execution_count": 30,
   "id": "602ac21f",
   "metadata": {},
   "outputs": [],
   "source": [
    "#multivariable regresion\n",
    "#trying to find a function that beats the one-variable model above\n",
    "\n",
    "X = master_subset[['2010 Census Population', 'PC_SNAPBEN10',\n",
    "                            'REDEMP_SNAPS12',\n",
    "                            'PCT_SNAP12',\n",
    "                            'PCT_FREE_LUNCH14',\n",
    "                            'PC_WIC_REDEMP12',\n",
    "                            'PCT_LACCESS_HHNV10',\n",
    "                            'PCT_LACCESS_SNAP15',\n",
    "                            'SNAPSPTH12']]\n",
    "y = master_subset[['PC_SNAPBEN15']]\n",
    "X_train, X_test, y_train, y_test = train_test_split(X, y, test_size = 0.25, random_state = 123)"
   ]
  },
  {
   "cell_type": "code",
   "execution_count": 31,
   "id": "60cc17f0",
   "metadata": {},
   "outputs": [
    {
     "name": "stdout",
     "output_type": "stream",
     "text": [
      "(2491, 9) (2491, 1)\n",
      "(831, 9) (831, 1)\n"
     ]
    }
   ],
   "source": [
    "print(X_train.shape, y_train.shape)\n",
    "print(X_test.shape, y_test.shape)"
   ]
  },
  {
   "cell_type": "code",
   "execution_count": 32,
   "id": "77bb73b2",
   "metadata": {},
   "outputs": [],
   "source": [
    "model = make_pipeline(StandardScaler(with_mean=False), LinearRegression())"
   ]
  },
  {
   "cell_type": "code",
   "execution_count": 33,
   "id": "fec06100",
   "metadata": {},
   "outputs": [
    {
     "data": {
      "text/html": [
       "<style>#sk-container-id-2 {color: black;background-color: white;}#sk-container-id-2 pre{padding: 0;}#sk-container-id-2 div.sk-toggleable {background-color: white;}#sk-container-id-2 label.sk-toggleable__label {cursor: pointer;display: block;width: 100%;margin-bottom: 0;padding: 0.3em;box-sizing: border-box;text-align: center;}#sk-container-id-2 label.sk-toggleable__label-arrow:before {content: \"▸\";float: left;margin-right: 0.25em;color: #696969;}#sk-container-id-2 label.sk-toggleable__label-arrow:hover:before {color: black;}#sk-container-id-2 div.sk-estimator:hover label.sk-toggleable__label-arrow:before {color: black;}#sk-container-id-2 div.sk-toggleable__content {max-height: 0;max-width: 0;overflow: hidden;text-align: left;background-color: #f0f8ff;}#sk-container-id-2 div.sk-toggleable__content pre {margin: 0.2em;color: black;border-radius: 0.25em;background-color: #f0f8ff;}#sk-container-id-2 input.sk-toggleable__control:checked~div.sk-toggleable__content {max-height: 200px;max-width: 100%;overflow: auto;}#sk-container-id-2 input.sk-toggleable__control:checked~label.sk-toggleable__label-arrow:before {content: \"▾\";}#sk-container-id-2 div.sk-estimator input.sk-toggleable__control:checked~label.sk-toggleable__label {background-color: #d4ebff;}#sk-container-id-2 div.sk-label input.sk-toggleable__control:checked~label.sk-toggleable__label {background-color: #d4ebff;}#sk-container-id-2 input.sk-hidden--visually {border: 0;clip: rect(1px 1px 1px 1px);clip: rect(1px, 1px, 1px, 1px);height: 1px;margin: -1px;overflow: hidden;padding: 0;position: absolute;width: 1px;}#sk-container-id-2 div.sk-estimator {font-family: monospace;background-color: #f0f8ff;border: 1px dotted black;border-radius: 0.25em;box-sizing: border-box;margin-bottom: 0.5em;}#sk-container-id-2 div.sk-estimator:hover {background-color: #d4ebff;}#sk-container-id-2 div.sk-parallel-item::after {content: \"\";width: 100%;border-bottom: 1px solid gray;flex-grow: 1;}#sk-container-id-2 div.sk-label:hover label.sk-toggleable__label {background-color: #d4ebff;}#sk-container-id-2 div.sk-serial::before {content: \"\";position: absolute;border-left: 1px solid gray;box-sizing: border-box;top: 0;bottom: 0;left: 50%;z-index: 0;}#sk-container-id-2 div.sk-serial {display: flex;flex-direction: column;align-items: center;background-color: white;padding-right: 0.2em;padding-left: 0.2em;position: relative;}#sk-container-id-2 div.sk-item {position: relative;z-index: 1;}#sk-container-id-2 div.sk-parallel {display: flex;align-items: stretch;justify-content: center;background-color: white;position: relative;}#sk-container-id-2 div.sk-item::before, #sk-container-id-2 div.sk-parallel-item::before {content: \"\";position: absolute;border-left: 1px solid gray;box-sizing: border-box;top: 0;bottom: 0;left: 50%;z-index: -1;}#sk-container-id-2 div.sk-parallel-item {display: flex;flex-direction: column;z-index: 1;position: relative;background-color: white;}#sk-container-id-2 div.sk-parallel-item:first-child::after {align-self: flex-end;width: 50%;}#sk-container-id-2 div.sk-parallel-item:last-child::after {align-self: flex-start;width: 50%;}#sk-container-id-2 div.sk-parallel-item:only-child::after {width: 0;}#sk-container-id-2 div.sk-dashed-wrapped {border: 1px dashed gray;margin: 0 0.4em 0.5em 0.4em;box-sizing: border-box;padding-bottom: 0.4em;background-color: white;}#sk-container-id-2 div.sk-label label {font-family: monospace;font-weight: bold;display: inline-block;line-height: 1.2em;}#sk-container-id-2 div.sk-label-container {text-align: center;}#sk-container-id-2 div.sk-container {/* jupyter's `normalize.less` sets `[hidden] { display: none; }` but bootstrap.min.css set `[hidden] { display: none !important; }` so we also need the `!important` here to be able to override the default hidden behavior on the sphinx rendered scikit-learn.org. See: https://github.com/scikit-learn/scikit-learn/issues/21755 */display: inline-block !important;position: relative;}#sk-container-id-2 div.sk-text-repr-fallback {display: none;}</style><div id=\"sk-container-id-2\" class=\"sk-top-container\"><div class=\"sk-text-repr-fallback\"><pre>Pipeline(steps=[(&#x27;standardscaler&#x27;, StandardScaler(with_mean=False)),\n",
       "                (&#x27;linearregression&#x27;, LinearRegression())])</pre><b>In a Jupyter environment, please rerun this cell to show the HTML representation or trust the notebook. <br />On GitHub, the HTML representation is unable to render, please try loading this page with nbviewer.org.</b></div><div class=\"sk-container\" hidden><div class=\"sk-item sk-dashed-wrapped\"><div class=\"sk-label-container\"><div class=\"sk-label sk-toggleable\"><input class=\"sk-toggleable__control sk-hidden--visually\" id=\"sk-estimator-id-4\" type=\"checkbox\" ><label for=\"sk-estimator-id-4\" class=\"sk-toggleable__label sk-toggleable__label-arrow\">Pipeline</label><div class=\"sk-toggleable__content\"><pre>Pipeline(steps=[(&#x27;standardscaler&#x27;, StandardScaler(with_mean=False)),\n",
       "                (&#x27;linearregression&#x27;, LinearRegression())])</pre></div></div></div><div class=\"sk-serial\"><div class=\"sk-item\"><div class=\"sk-estimator sk-toggleable\"><input class=\"sk-toggleable__control sk-hidden--visually\" id=\"sk-estimator-id-5\" type=\"checkbox\" ><label for=\"sk-estimator-id-5\" class=\"sk-toggleable__label sk-toggleable__label-arrow\">StandardScaler</label><div class=\"sk-toggleable__content\"><pre>StandardScaler(with_mean=False)</pre></div></div></div><div class=\"sk-item\"><div class=\"sk-estimator sk-toggleable\"><input class=\"sk-toggleable__control sk-hidden--visually\" id=\"sk-estimator-id-6\" type=\"checkbox\" ><label for=\"sk-estimator-id-6\" class=\"sk-toggleable__label sk-toggleable__label-arrow\">LinearRegression</label><div class=\"sk-toggleable__content\"><pre>LinearRegression()</pre></div></div></div></div></div></div></div>"
      ],
      "text/plain": [
       "Pipeline(steps=[('standardscaler', StandardScaler(with_mean=False)),\n",
       "                ('linearregression', LinearRegression())])"
      ]
     },
     "execution_count": 33,
     "metadata": {},
     "output_type": "execute_result"
    }
   ],
   "source": [
    "model.fit(X_train, y_train)"
   ]
  },
  {
   "cell_type": "code",
   "execution_count": 34,
   "id": "766f0eab",
   "metadata": {},
   "outputs": [
    {
     "name": "stdout",
     "output_type": "stream",
     "text": [
      "0.9110754368506175\n"
     ]
    }
   ],
   "source": [
    "print(model.score(X_train, y_train))"
   ]
  },
  {
   "cell_type": "code",
   "execution_count": 35,
   "id": "999d6367",
   "metadata": {},
   "outputs": [],
   "source": [
    "y_pred = model.predict(X_test)"
   ]
  },
  {
   "cell_type": "code",
   "execution_count": 36,
   "id": "0e70706d",
   "metadata": {},
   "outputs": [
    {
     "data": {
      "text/plain": [
       "<matplotlib.collections.PathCollection at 0x2d04b1c9940>"
      ]
     },
     "execution_count": 36,
     "metadata": {},
     "output_type": "execute_result"
    },
    {
     "data": {
      "image/png": "[encoded data removed]",
      "text/plain": [
       "<Figure size 432x288 with 1 Axes>"
      ]
     },
     "metadata": {
      "needs_background": "light"
     },
     "output_type": "display_data"
    }
   ],
   "source": [
    "plt.scatter(y_test,y_pred)"
   ]
  },
  {
   "cell_type": "code",
   "execution_count": 37,
   "id": "bcedccad",
   "metadata": {},
   "outputs": [
    {
     "name": "stdout",
     "output_type": "stream",
     "text": [
      "0.9050350035838581\n"
     ]
    }
   ],
   "source": [
    "print(model.score(X_test, y_test))"
   ]
  },
  {
   "cell_type": "code",
   "execution_count": 38,
   "id": "6767adb2",
   "metadata": {},
   "outputs": [
    {
     "data": {
      "text/plain": [
       "9.913295452763"
      ]
     },
     "execution_count": 38,
     "metadata": {},
     "output_type": "execute_result"
    }
   ],
   "source": [
    "metrics.mean_squared_error(y_test, y_pred)"
   ]
  },
  {
   "cell_type": "markdown",
   "id": "fa732969",
   "metadata": {},
   "source": [
    "Including more features maintaines a linear shape, but this time the mean squared error is about 9.91; a distinct improvement.  Since there is concern over data leakage as a result of using data collected in 2015, specifically the PCT_LACCESS_SNAP15 feature, let's see how the model looks without it."
   ]
  },
  {
   "cell_type": "code",
   "execution_count": 39,
   "id": "df8b1bd9",
   "metadata": {},
   "outputs": [],
   "source": [
    "#Same as above, but removing PCT_LACCESS_SNAP15\n",
    "X = master_subset[['2010 Census Population', 'PC_SNAPBEN10',\n",
    "                            'REDEMP_SNAPS12',\n",
    "                            'PCT_SNAP12',\n",
    "                            'PCT_FREE_LUNCH14',\n",
    "                            'PC_WIC_REDEMP12',\n",
    "                            'PCT_LACCESS_HHNV10',\n",
    "                            'SNAPSPTH12']]\n",
    "y = master_subset[['PC_SNAPBEN15']]\n",
    "X_train, X_test, y_train, y_test = train_test_split(X, y, test_size = 0.25, random_state = 123)"
   ]
  },
  {
   "cell_type": "code",
   "execution_count": 40,
   "id": "79dbac38",
   "metadata": {},
   "outputs": [
    {
     "name": "stdout",
     "output_type": "stream",
     "text": [
      "(2491, 8) (2491, 1)\n",
      "(831, 8) (831, 1)\n"
     ]
    }
   ],
   "source": [
    "print(X_train.shape, y_train.shape)\n",
    "print(X_test.shape, y_test.shape)"
   ]
  },
  {
   "cell_type": "code",
   "execution_count": 41,
   "id": "15c8a1a2",
   "metadata": {},
   "outputs": [],
   "source": [
    "model = make_pipeline(StandardScaler(with_mean=False), LinearRegression())"
   ]
  },
  {
   "cell_type": "code",
   "execution_count": 42,
   "id": "120f32f7",
   "metadata": {},
   "outputs": [
    {
     "data": {
      "text/html": [
       "<style>#sk-container-id-3 {color: black;background-color: white;}#sk-container-id-3 pre{padding: 0;}#sk-container-id-3 div.sk-toggleable {background-color: white;}#sk-container-id-3 label.sk-toggleable__label {cursor: pointer;display: block;width: 100%;margin-bottom: 0;padding: 0.3em;box-sizing: border-box;text-align: center;}#sk-container-id-3 label.sk-toggleable__label-arrow:before {content: \"▸\";float: left;margin-right: 0.25em;color: #696969;}#sk-container-id-3 label.sk-toggleable__label-arrow:hover:before {color: black;}#sk-container-id-3 div.sk-estimator:hover label.sk-toggleable__label-arrow:before {color: black;}#sk-container-id-3 div.sk-toggleable__content {max-height: 0;max-width: 0;overflow: hidden;text-align: left;background-color: #f0f8ff;}#sk-container-id-3 div.sk-toggleable__content pre {margin: 0.2em;color: black;border-radius: 0.25em;background-color: #f0f8ff;}#sk-container-id-3 input.sk-toggleable__control:checked~div.sk-toggleable__content {max-height: 200px;max-width: 100%;overflow: auto;}#sk-container-id-3 input.sk-toggleable__control:checked~label.sk-toggleable__label-arrow:before {content: \"▾\";}#sk-container-id-3 div.sk-estimator input.sk-toggleable__control:checked~label.sk-toggleable__label {background-color: #d4ebff;}#sk-container-id-3 div.sk-label input.sk-toggleable__control:checked~label.sk-toggleable__label {background-color: #d4ebff;}#sk-container-id-3 input.sk-hidden--visually {border: 0;clip: rect(1px 1px 1px 1px);clip: rect(1px, 1px, 1px, 1px);height: 1px;margin: -1px;overflow: hidden;padding: 0;position: absolute;width: 1px;}#sk-container-id-3 div.sk-estimator {font-family: monospace;background-color: #f0f8ff;border: 1px dotted black;border-radius: 0.25em;box-sizing: border-box;margin-bottom: 0.5em;}#sk-container-id-3 div.sk-estimator:hover {background-color: #d4ebff;}#sk-container-id-3 div.sk-parallel-item::after {content: \"\";width: 100%;border-bottom: 1px solid gray;flex-grow: 1;}#sk-container-id-3 div.sk-label:hover label.sk-toggleable__label {background-color: #d4ebff;}#sk-container-id-3 div.sk-serial::before {content: \"\";position: absolute;border-left: 1px solid gray;box-sizing: border-box;top: 0;bottom: 0;left: 50%;z-index: 0;}#sk-container-id-3 div.sk-serial {display: flex;flex-direction: column;align-items: center;background-color: white;padding-right: 0.2em;padding-left: 0.2em;position: relative;}#sk-container-id-3 div.sk-item {position: relative;z-index: 1;}#sk-container-id-3 div.sk-parallel {display: flex;align-items: stretch;justify-content: center;background-color: white;position: relative;}#sk-container-id-3 div.sk-item::before, #sk-container-id-3 div.sk-parallel-item::before {content: \"\";position: absolute;border-left: 1px solid gray;box-sizing: border-box;top: 0;bottom: 0;left: 50%;z-index: -1;}#sk-container-id-3 div.sk-parallel-item {display: flex;flex-direction: column;z-index: 1;position: relative;background-color: white;}#sk-container-id-3 div.sk-parallel-item:first-child::after {align-self: flex-end;width: 50%;}#sk-container-id-3 div.sk-parallel-item:last-child::after {align-self: flex-start;width: 50%;}#sk-container-id-3 div.sk-parallel-item:only-child::after {width: 0;}#sk-container-id-3 div.sk-dashed-wrapped {border: 1px dashed gray;margin: 0 0.4em 0.5em 0.4em;box-sizing: border-box;padding-bottom: 0.4em;background-color: white;}#sk-container-id-3 div.sk-label label {font-family: monospace;font-weight: bold;display: inline-block;line-height: 1.2em;}#sk-container-id-3 div.sk-label-container {text-align: center;}#sk-container-id-3 div.sk-container {/* jupyter's `normalize.less` sets `[hidden] { display: none; }` but bootstrap.min.css set `[hidden] { display: none !important; }` so we also need the `!important` here to be able to override the default hidden behavior on the sphinx rendered scikit-learn.org. See: https://github.com/scikit-learn/scikit-learn/issues/21755 */display: inline-block !important;position: relative;}#sk-container-id-3 div.sk-text-repr-fallback {display: none;}</style><div id=\"sk-container-id-3\" class=\"sk-top-container\"><div class=\"sk-text-repr-fallback\"><pre>Pipeline(steps=[(&#x27;standardscaler&#x27;, StandardScaler(with_mean=False)),\n",
       "                (&#x27;linearregression&#x27;, LinearRegression())])</pre><b>In a Jupyter environment, please rerun this cell to show the HTML representation or trust the notebook. <br />On GitHub, the HTML representation is unable to render, please try loading this page with nbviewer.org.</b></div><div class=\"sk-container\" hidden><div class=\"sk-item sk-dashed-wrapped\"><div class=\"sk-label-container\"><div class=\"sk-label sk-toggleable\"><input class=\"sk-toggleable__control sk-hidden--visually\" id=\"sk-estimator-id-7\" type=\"checkbox\" ><label for=\"sk-estimator-id-7\" class=\"sk-toggleable__label sk-toggleable__label-arrow\">Pipeline</label><div class=\"sk-toggleable__content\"><pre>Pipeline(steps=[(&#x27;standardscaler&#x27;, StandardScaler(with_mean=False)),\n",
       "                (&#x27;linearregression&#x27;, LinearRegression())])</pre></div></div></div><div class=\"sk-serial\"><div class=\"sk-item\"><div class=\"sk-estimator sk-toggleable\"><input class=\"sk-toggleable__control sk-hidden--visually\" id=\"sk-estimator-id-8\" type=\"checkbox\" ><label for=\"sk-estimator-id-8\" class=\"sk-toggleable__label sk-toggleable__label-arrow\">StandardScaler</label><div class=\"sk-toggleable__content\"><pre>StandardScaler(with_mean=False)</pre></div></div></div><div class=\"sk-item\"><div class=\"sk-estimator sk-toggleable\"><input class=\"sk-toggleable__control sk-hidden--visually\" id=\"sk-estimator-id-9\" type=\"checkbox\" ><label for=\"sk-estimator-id-9\" class=\"sk-toggleable__label sk-toggleable__label-arrow\">LinearRegression</label><div class=\"sk-toggleable__content\"><pre>LinearRegression()</pre></div></div></div></div></div></div></div>"
      ],
      "text/plain": [
       "Pipeline(steps=[('standardscaler', StandardScaler(with_mean=False)),\n",
       "                ('linearregression', LinearRegression())])"
      ]
     },
     "execution_count": 42,
     "metadata": {},
     "output_type": "execute_result"
    }
   ],
   "source": [
    "model.fit(X_train, y_train)"
   ]
  },
  {
   "cell_type": "code",
   "execution_count": 43,
   "id": "df216fc3",
   "metadata": {},
   "outputs": [
    {
     "name": "stdout",
     "output_type": "stream",
     "text": [
      "0.9110374469428809\n"
     ]
    }
   ],
   "source": [
    "print(model.score(X_train, y_train))"
   ]
  },
  {
   "cell_type": "code",
   "execution_count": 44,
   "id": "5b3074ab",
   "metadata": {},
   "outputs": [],
   "source": [
    "y_pred = model.predict(X_test)"
   ]
  },
  {
   "cell_type": "code",
   "execution_count": 45,
   "id": "f99d5df3",
   "metadata": {},
   "outputs": [
    {
     "data": {
      "text/plain": [
       "<matplotlib.collections.PathCollection at 0x2d04b23c880>"
      ]
     },
     "execution_count": 45,
     "metadata": {},
     "output_type": "execute_result"
    },
    {
     "data": {
      "image/png": "[encoded data removed]",
      "text/plain": [
       "<Figure size 432x288 with 1 Axes>"
      ]
     },
     "metadata": {
      "needs_background": "light"
     },
     "output_type": "display_data"
    }
   ],
   "source": [
    "plt.scatter(y_test,y_pred)"
   ]
  },
  {
   "cell_type": "code",
   "execution_count": 46,
   "id": "c4ee58da",
   "metadata": {},
   "outputs": [
    {
     "name": "stdout",
     "output_type": "stream",
     "text": [
      "0.905447464577289\n"
     ]
    }
   ],
   "source": [
    "print(model.score(X_test, y_test))"
   ]
  },
  {
   "cell_type": "code",
   "execution_count": 47,
   "id": "8fb64453",
   "metadata": {},
   "outputs": [
    {
     "data": {
      "text/plain": [
       "9.870239086260312"
      ]
     },
     "execution_count": 47,
     "metadata": {},
     "output_type": "execute_result"
    }
   ],
   "source": [
    "metrics.mean_squared_error(y_test, y_pred)"
   ]
  },
  {
   "cell_type": "markdown",
   "id": "83d639a8",
   "metadata": {},
   "source": [
    "Removing the possible confounding factor has actually improved the model's performance slightly from 9.91 down to 9.87.  Since the model dosn't seem to overly rely on it, and to avoid data leakage, let's remove that feature from consideration going forward."
   ]
  },
  {
   "cell_type": "markdown",
   "id": "dd5076cc",
   "metadata": {},
   "source": [
    "### 3) More Methods\n",
    "\n",
    "Let's try another approach: decision tree regression."
   ]
  },
  {
   "cell_type": "code",
   "execution_count": 48,
   "id": "37cbe6ab",
   "metadata": {},
   "outputs": [
    {
     "data": {
      "text/html": [
       "<style>#sk-container-id-4 {color: black;background-color: white;}#sk-container-id-4 pre{padding: 0;}#sk-container-id-4 div.sk-toggleable {background-color: white;}#sk-container-id-4 label.sk-toggleable__label {cursor: pointer;display: block;width: 100%;margin-bottom: 0;padding: 0.3em;box-sizing: border-box;text-align: center;}#sk-container-id-4 label.sk-toggleable__label-arrow:before {content: \"▸\";float: left;margin-right: 0.25em;color: #696969;}#sk-container-id-4 label.sk-toggleable__label-arrow:hover:before {color: black;}#sk-container-id-4 div.sk-estimator:hover label.sk-toggleable__label-arrow:before {color: black;}#sk-container-id-4 div.sk-toggleable__content {max-height: 0;max-width: 0;overflow: hidden;text-align: left;background-color: #f0f8ff;}#sk-container-id-4 div.sk-toggleable__content pre {margin: 0.2em;color: black;border-radius: 0.25em;background-color: #f0f8ff;}#sk-container-id-4 input.sk-toggleable__control:checked~div.sk-toggleable__content {max-height: 200px;max-width: 100%;overflow: auto;}#sk-container-id-4 input.sk-toggleable__control:checked~label.sk-toggleable__label-arrow:before {content: \"▾\";}#sk-container-id-4 div.sk-estimator input.sk-toggleable__control:checked~label.sk-toggleable__label {background-color: #d4ebff;}#sk-container-id-4 div.sk-label input.sk-toggleable__control:checked~label.sk-toggleable__label {background-color: #d4ebff;}#sk-container-id-4 input.sk-hidden--visually {border: 0;clip: rect(1px 1px 1px 1px);clip: rect(1px, 1px, 1px, 1px);height: 1px;margin: -1px;overflow: hidden;padding: 0;position: absolute;width: 1px;}#sk-container-id-4 div.sk-estimator {font-family: monospace;background-color: #f0f8ff;border: 1px dotted black;border-radius: 0.25em;box-sizing: border-box;margin-bottom: 0.5em;}#sk-container-id-4 div.sk-estimator:hover {background-color: #d4ebff;}#sk-container-id-4 div.sk-parallel-item::after {content: \"\";width: 100%;border-bottom: 1px solid gray;flex-grow: 1;}#sk-container-id-4 div.sk-label:hover label.sk-toggleable__label {background-color: #d4ebff;}#sk-container-id-4 div.sk-serial::before {content: \"\";position: absolute;border-left: 1px solid gray;box-sizing: border-box;top: 0;bottom: 0;left: 50%;z-index: 0;}#sk-container-id-4 div.sk-serial {display: flex;flex-direction: column;align-items: center;background-color: white;padding-right: 0.2em;padding-left: 0.2em;position: relative;}#sk-container-id-4 div.sk-item {position: relative;z-index: 1;}#sk-container-id-4 div.sk-parallel {display: flex;align-items: stretch;justify-content: center;background-color: white;position: relative;}#sk-container-id-4 div.sk-item::before, #sk-container-id-4 div.sk-parallel-item::before {content: \"\";position: absolute;border-left: 1px solid gray;box-sizing: border-box;top: 0;bottom: 0;left: 50%;z-index: -1;}#sk-container-id-4 div.sk-parallel-item {display: flex;flex-direction: column;z-index: 1;position: relative;background-color: white;}#sk-container-id-4 div.sk-parallel-item:first-child::after {align-self: flex-end;width: 50%;}#sk-container-id-4 div.sk-parallel-item:last-child::after {align-self: flex-start;width: 50%;}#sk-container-id-4 div.sk-parallel-item:only-child::after {width: 0;}#sk-container-id-4 div.sk-dashed-wrapped {border: 1px dashed gray;margin: 0 0.4em 0.5em 0.4em;box-sizing: border-box;padding-bottom: 0.4em;background-color: white;}#sk-container-id-4 div.sk-label label {font-family: monospace;font-weight: bold;display: inline-block;line-height: 1.2em;}#sk-container-id-4 div.sk-label-container {text-align: center;}#sk-container-id-4 div.sk-container {/* jupyter's `normalize.less` sets `[hidden] { display: none; }` but bootstrap.min.css set `[hidden] { display: none !important; }` so we also need the `!important` here to be able to override the default hidden behavior on the sphinx rendered scikit-learn.org. See: https://github.com/scikit-learn/scikit-learn/issues/21755 */display: inline-block !important;position: relative;}#sk-container-id-4 div.sk-text-repr-fallback {display: none;}</style><div id=\"sk-container-id-4\" class=\"sk-top-container\"><div class=\"sk-text-repr-fallback\"><pre>DecisionTreeRegressor(random_state=1234)</pre><b>In a Jupyter environment, please rerun this cell to show the HTML representation or trust the notebook. <br />On GitHub, the HTML representation is unable to render, please try loading this page with nbviewer.org.</b></div><div class=\"sk-container\" hidden><div class=\"sk-item\"><div class=\"sk-estimator sk-toggleable\"><input class=\"sk-toggleable__control sk-hidden--visually\" id=\"sk-estimator-id-10\" type=\"checkbox\" checked><label for=\"sk-estimator-id-10\" class=\"sk-toggleable__label sk-toggleable__label-arrow\">DecisionTreeRegressor</label><div class=\"sk-toggleable__content\"><pre>DecisionTreeRegressor(random_state=1234)</pre></div></div></div></div></div>"
      ],
      "text/plain": [
       "DecisionTreeRegressor(random_state=1234)"
      ]
     },
     "execution_count": 48,
     "metadata": {},
     "output_type": "execute_result"
    }
   ],
   "source": [
    "# Declare a variable called entr_model and use tree.DecisionTreeRegressor. \n",
    "entr_model = tree.DecisionTreeRegressor(random_state = 1234)\n",
    "\n",
    "# Call fit() on entr_model\n",
    "entr_model.fit(X_train, y_train)\n",
    "\n",
    "# Call predict() on entr_model with X_test passed to it, and assign the result to a variable y_pred \n",
    "y_pred = entr_model.predict(X_test)\n",
    "\n",
    "# Call Series on our y_pred variable with the following: pd.Series(y_pred)\n",
    "y_pred = pd.Series(y_pred)\n",
    "\n",
    "# Check out entr_model\n",
    "entr_model\n",
    "\n",
    "#look up: DecisionTreeRegressor\n",
    "#rmse on all algorithms: linear regression and Decision Tree, maybe try random forest after"
   ]
  },
  {
   "cell_type": "code",
   "execution_count": 49,
   "id": "93130df6",
   "metadata": {},
   "outputs": [
    {
     "data": {
      "text/plain": [
       "10.929377934229263"
      ]
     },
     "execution_count": 49,
     "metadata": {},
     "output_type": "execute_result"
    }
   ],
   "source": [
    "metrics.mean_squared_error(y_test, y_pred)"
   ]
  },
  {
   "cell_type": "markdown",
   "id": "033cc59c",
   "metadata": {},
   "source": [
    "The decision tree regressor gave us a mean squared error of about 10.93; when running the same algorithm including PCT_LACCESS_SNAP15, the resulting model performed better than this with a mean squared error of 10.09.  Both are better than the original algorithm, but they are still outclassed by multivariable regression.  The random forest algorithm is based on averaging randomized decision trees, so let's see if it can do better."
   ]
  },
  {
   "cell_type": "code",
   "execution_count": 50,
   "id": "120b09ae",
   "metadata": {},
   "outputs": [
    {
     "data": {
      "text/html": [
       "<style>#sk-container-id-5 {color: black;background-color: white;}#sk-container-id-5 pre{padding: 0;}#sk-container-id-5 div.sk-toggleable {background-color: white;}#sk-container-id-5 label.sk-toggleable__label {cursor: pointer;display: block;width: 100%;margin-bottom: 0;padding: 0.3em;box-sizing: border-box;text-align: center;}#sk-container-id-5 label.sk-toggleable__label-arrow:before {content: \"▸\";float: left;margin-right: 0.25em;color: #696969;}#sk-container-id-5 label.sk-toggleable__label-arrow:hover:before {color: black;}#sk-container-id-5 div.sk-estimator:hover label.sk-toggleable__label-arrow:before {color: black;}#sk-container-id-5 div.sk-toggleable__content {max-height: 0;max-width: 0;overflow: hidden;text-align: left;background-color: #f0f8ff;}#sk-container-id-5 div.sk-toggleable__content pre {margin: 0.2em;color: black;border-radius: 0.25em;background-color: #f0f8ff;}#sk-container-id-5 input.sk-toggleable__control:checked~div.sk-toggleable__content {max-height: 200px;max-width: 100%;overflow: auto;}#sk-container-id-5 input.sk-toggleable__control:checked~label.sk-toggleable__label-arrow:before {content: \"▾\";}#sk-container-id-5 div.sk-estimator input.sk-toggleable__control:checked~label.sk-toggleable__label {background-color: #d4ebff;}#sk-container-id-5 div.sk-label input.sk-toggleable__control:checked~label.sk-toggleable__label {background-color: #d4ebff;}#sk-container-id-5 input.sk-hidden--visually {border: 0;clip: rect(1px 1px 1px 1px);clip: rect(1px, 1px, 1px, 1px);height: 1px;margin: -1px;overflow: hidden;padding: 0;position: absolute;width: 1px;}#sk-container-id-5 div.sk-estimator {font-family: monospace;background-color: #f0f8ff;border: 1px dotted black;border-radius: 0.25em;box-sizing: border-box;margin-bottom: 0.5em;}#sk-container-id-5 div.sk-estimator:hover {background-color: #d4ebff;}#sk-container-id-5 div.sk-parallel-item::after {content: \"\";width: 100%;border-bottom: 1px solid gray;flex-grow: 1;}#sk-container-id-5 div.sk-label:hover label.sk-toggleable__label {background-color: #d4ebff;}#sk-container-id-5 div.sk-serial::before {content: \"\";position: absolute;border-left: 1px solid gray;box-sizing: border-box;top: 0;bottom: 0;left: 50%;z-index: 0;}#sk-container-id-5 div.sk-serial {display: flex;flex-direction: column;align-items: center;background-color: white;padding-right: 0.2em;padding-left: 0.2em;position: relative;}#sk-container-id-5 div.sk-item {position: relative;z-index: 1;}#sk-container-id-5 div.sk-parallel {display: flex;align-items: stretch;justify-content: center;background-color: white;position: relative;}#sk-container-id-5 div.sk-item::before, #sk-container-id-5 div.sk-parallel-item::before {content: \"\";position: absolute;border-left: 1px solid gray;box-sizing: border-box;top: 0;bottom: 0;left: 50%;z-index: -1;}#sk-container-id-5 div.sk-parallel-item {display: flex;flex-direction: column;z-index: 1;position: relative;background-color: white;}#sk-container-id-5 div.sk-parallel-item:first-child::after {align-self: flex-end;width: 50%;}#sk-container-id-5 div.sk-parallel-item:last-child::after {align-self: flex-start;width: 50%;}#sk-container-id-5 div.sk-parallel-item:only-child::after {width: 0;}#sk-container-id-5 div.sk-dashed-wrapped {border: 1px dashed gray;margin: 0 0.4em 0.5em 0.4em;box-sizing: border-box;padding-bottom: 0.4em;background-color: white;}#sk-container-id-5 div.sk-label label {font-family: monospace;font-weight: bold;display: inline-block;line-height: 1.2em;}#sk-container-id-5 div.sk-label-container {text-align: center;}#sk-container-id-5 div.sk-container {/* jupyter's `normalize.less` sets `[hidden] { display: none; }` but bootstrap.min.css set `[hidden] { display: none !important; }` so we also need the `!important` here to be able to override the default hidden behavior on the sphinx rendered scikit-learn.org. See: https://github.com/scikit-learn/scikit-learn/issues/21755 */display: inline-block !important;position: relative;}#sk-container-id-5 div.sk-text-repr-fallback {display: none;}</style><div id=\"sk-container-id-5\" class=\"sk-top-container\"><div class=\"sk-text-repr-fallback\"><pre>RandomForestRegressor(random_state=1234)</pre><b>In a Jupyter environment, please rerun this cell to show the HTML representation or trust the notebook. <br />On GitHub, the HTML representation is unable to render, please try loading this page with nbviewer.org.</b></div><div class=\"sk-container\" hidden><div class=\"sk-item\"><div class=\"sk-estimator sk-toggleable\"><input class=\"sk-toggleable__control sk-hidden--visually\" id=\"sk-estimator-id-11\" type=\"checkbox\" checked><label for=\"sk-estimator-id-11\" class=\"sk-toggleable__label sk-toggleable__label-arrow\">RandomForestRegressor</label><div class=\"sk-toggleable__content\"><pre>RandomForestRegressor(random_state=1234)</pre></div></div></div></div></div>"
      ],
      "text/plain": [
       "RandomForestRegressor(random_state=1234)"
      ]
     },
     "execution_count": 50,
     "metadata": {},
     "output_type": "execute_result"
    }
   ],
   "source": [
    "forest_model = ensemble.RandomForestRegressor(random_state = 1234)\n",
    "\n",
    "# reshape y_train to correct format\n",
    "#y_train_reshaped = y_train.to_numpy().reshape(-1)\n",
    "\n",
    "# Call fit() on entr_model, calling .values.ravel() on y_train to accommodate .fit()\n",
    "forest_model.fit(X_train, y_train.values.ravel())\n",
    "\n",
    "# Call predict() on entr_model with X_test passed to it, and assign the result to a variable y_pred\n",
    "y_pred = forest_model.predict(X_test)\n",
    "\n",
    "# Call Series on our y_pred variable with the following: pd.Series(y_pred)\n",
    "y_pred = pd.Series(y_pred)\n",
    "\n",
    "# Check out entr_model\n",
    "forest_model"
   ]
  },
  {
   "cell_type": "code",
   "execution_count": 51,
   "id": "25c3510c",
   "metadata": {},
   "outputs": [
    {
     "data": {
      "text/plain": [
       "6.5866401317898156"
      ]
     },
     "execution_count": 51,
     "metadata": {},
     "output_type": "execute_result"
    }
   ],
   "source": [
    "metrics.mean_squared_error(y_test, y_pred)"
   ]
  },
  {
   "cell_type": "markdown",
   "id": "0a1874fc",
   "metadata": {},
   "source": [
    "The random forest regressor gives us a mean squared error of about 6.59, almost half of the original linear regression model's 12.64.  This method also improves over including PCT_LACCESS_SNAP15 in the random forest algorithm, which returned a mean squared error of about 6.85.  Let's take a closer look, and see how much weight the random forest model gave to each of the features."
   ]
  },
  {
   "cell_type": "code",
   "execution_count": 52,
   "id": "35f06042",
   "metadata": {},
   "outputs": [
    {
     "data": {
      "text/html": [
       "<div>\n",
       "<style scoped>\n",
       "    .dataframe tbody tr th:only-of-type {\n",
       "        vertical-align: middle;\n",
       "    }\n",
       "\n",
       "    .dataframe tbody tr th {\n",
       "        vertical-align: top;\n",
       "    }\n",
       "\n",
       "    .dataframe thead th {\n",
       "        text-align: right;\n",
       "    }\n",
       "</style>\n",
       "<table border=\"1\" class=\"dataframe\">\n",
       "  <thead>\n",
       "    <tr style=\"text-align: right;\">\n",
       "      <th></th>\n",
       "      <th>0</th>\n",
       "      <th>1</th>\n",
       "    </tr>\n",
       "  </thead>\n",
       "  <tbody>\n",
       "    <tr>\n",
       "      <th>0</th>\n",
       "      <td>2010 Census Population</td>\n",
       "      <td>0.009033</td>\n",
       "    </tr>\n",
       "    <tr>\n",
       "      <th>1</th>\n",
       "      <td>PC_SNAPBEN10</td>\n",
       "      <td>0.908739</td>\n",
       "    </tr>\n",
       "    <tr>\n",
       "      <th>2</th>\n",
       "      <td>REDEMP_SNAPS12</td>\n",
       "      <td>0.008129</td>\n",
       "    </tr>\n",
       "    <tr>\n",
       "      <th>3</th>\n",
       "      <td>PCT_SNAP12</td>\n",
       "      <td>0.018636</td>\n",
       "    </tr>\n",
       "    <tr>\n",
       "      <th>4</th>\n",
       "      <td>PCT_FREE_LUNCH14</td>\n",
       "      <td>0.014173</td>\n",
       "    </tr>\n",
       "    <tr>\n",
       "      <th>5</th>\n",
       "      <td>PC_WIC_REDEMP12</td>\n",
       "      <td>0.013344</td>\n",
       "    </tr>\n",
       "    <tr>\n",
       "      <th>6</th>\n",
       "      <td>PCT_LACCESS_HHNV10</td>\n",
       "      <td>0.020299</td>\n",
       "    </tr>\n",
       "    <tr>\n",
       "      <th>7</th>\n",
       "      <td>SNAPSPTH12</td>\n",
       "      <td>0.007646</td>\n",
       "    </tr>\n",
       "  </tbody>\n",
       "</table>\n",
       "</div>"
      ],
      "text/plain": [
       "                        0         1\n",
       "0  2010 Census Population  0.009033\n",
       "1            PC_SNAPBEN10  0.908739\n",
       "2          REDEMP_SNAPS12  0.008129\n",
       "3              PCT_SNAP12  0.018636\n",
       "4        PCT_FREE_LUNCH14  0.014173\n",
       "5         PC_WIC_REDEMP12  0.013344\n",
       "6      PCT_LACCESS_HHNV10  0.020299\n",
       "7              SNAPSPTH12  0.007646"
      ]
     },
     "execution_count": 52,
     "metadata": {},
     "output_type": "execute_result"
    }
   ],
   "source": [
    "#forest_model.feature_importances_\n",
    "pd.DataFrame(zip(X_test.columns, forest_model.feature_importances_))"
   ]
  },
  {
   "cell_type": "markdown",
   "id": "d1c1f409",
   "metadata": {},
   "source": [
    "Unsurprisingly, the most important feature by a wide margin is PC_SNAPBEN10, with over 90% where all other features are given less than 2% weight.  While it isn't surprising to see other metrics directly related to SNAP benefits to be of note, or the population, it may be interesting to study relationships between SNAP benefits and the less obviously related features such as the percent of students eligible for free lunch, WIC redemptions per capeta, and the percent of households with low access to food and lacking a vehicle."
   ]
  },
  {
   "cell_type": "markdown",
   "id": "8829b6d9",
   "metadata": {},
   "source": [
    "# Final Thoughts"
   ]
  },
  {
   "cell_type": "markdown",
   "id": "56025014",
   "metadata": {},
   "source": [
    "There are, of course, other approaches to this.  One could make a model using the selected features without the historic data (PC_SNAPBEN10); I found that those models underperformed even when compared to the first model that only used PC_SNAPBEN10, but that approach might be more valuable to those who wish to find a more effective way to distribute SNAP benefits rather than try to model how they are currently being distributed.  Perhaps using similar algorithms focused on information from the Insecurity tab might better show where there is an unaddressed need for more SNAP benefits or aid from other similar programs, especially when combined with information like REDEMP_SNAPS12 to make sure that the benefits provided are actually being used.  A similar approach may be valuable in analysing other aid programs, both within the United States and beyond, if the relevant data can be found."
   ]
  }
 ],
 "metadata": {
  "kernelspec": {
   "display_name": "Python 3 (ipykernel)",
   "language": "python",
   "name": "python3"
  },
  "language_info": {
   "codemirror_mode": {
    "name": "ipython",
    "version": 3
   },
   "file_extension": ".py",
   "mimetype": "text/x-python",
   "name": "python",
   "nbconvert_exporter": "python",
   "pygments_lexer": "ipython3",
   "version": "3.9.12"
  }
 },
 "nbformat": 4,
 "nbformat_minor": 5
}
