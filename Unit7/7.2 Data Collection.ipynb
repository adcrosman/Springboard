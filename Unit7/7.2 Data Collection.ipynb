{
 "cells": [
  {
   "cell_type": "markdown",
   "id": "6513a42b",
   "metadata": {},
   "source": [
    "\n",
    "\n",
    "This exercise will require you to pull some data from https://data.nasdaq.com/ (formerly Quandl API).\n",
    "\n",
    "As a first step, you will need to register a free account on the https://data.nasdaq.com/ website.\n",
    "\n",
    "After you register, you will be provided with a unique API key, that you should store:\n",
    "\n",
    "Note: Use a .env file and put your key in there and python-dotenv to access it in this notebook.\n",
    "\n",
    "The code below uses a key that was used when generating this project but has since been deleted. Never submit your keys to source control. There is a .env-example file in this repository to illusrtate what you need. Copy that to a file called .env and use your own api key in that .env file. Make sure you also have a .gitignore file with a line for .env added to it.\n",
    "\n",
    "The standard Python gitignore is here you can just copy that.\n"
   ]
  },
  {
   "cell_type": "code",
   "execution_count": 1,
   "id": "6a1d5198",
   "metadata": {},
   "outputs": [],
   "source": [
    "# get api key from your .env file\n",
    "import os\n",
    "from dotenv import load_dotenv\n",
    "\n",
    "load_dotenv()\n",
    "API_KEY = os.getenv('NASDAQ_API_KEY')\n",
    "\n",
    "#print(API_KEY)"
   ]
  },
  {
   "cell_type": "markdown",
   "id": "e2ad1718",
   "metadata": {},
   "source": [
    "\n",
    "\n",
    "Nasdaq Data has a large number of data sources, but, unfortunately, most of them require a Premium subscription. Still, there are also a good number of free datasets.\n",
    "\n",
    "For this mini project, we will focus on equities data from the Frankfurt Stock Exhange (FSE), which is available for free. We'll try and analyze the stock prices of a company called Carl Zeiss Meditec, which manufactures tools for eye examinations, as well as medical lasers for laser eye surgery: https://www.zeiss.com/meditec/int/home.html. The company is listed under the stock ticker AFX_X.\n",
    "\n",
    "You can find the detailed Nasdaq Data API instructions here: https://docs.data.nasdaq.com/docs/in-depth-usage\n",
    "\n",
    "While there is a dedicated Python package for connecting to the Nasdaq API, we would prefer that you use the requests package, which can be easily downloaded using pip or conda. You can find the documentation for the package here: http://docs.python-requests.org/en/master/\n",
    "\n",
    "Finally, apart from the requests package, you are encouraged to not use any third party Python packages, such as pandas, and instead focus on what's available in the Python Standard Library (the collections module might come in handy: https://pymotw.com/3/collections/). Also, since you won't have access to DataFrames, you are encouraged to us Python's native data structures - preferably dictionaries, though some questions can also be answered using lists. You can read more on these data structures here: https://docs.python.org/3/tutorial/datastructures.html\n",
    "\n",
    "Keep in mind that the JSON responses you will be getting from the API map almost one-to-one to Python's dictionaries. Unfortunately, they can be very nested, so make sure you read up on indexing dictionaries in the documentation provided above.\n"
   ]
  },
  {
   "cell_type": "code",
   "execution_count": 2,
   "id": "93ea3800",
   "metadata": {},
   "outputs": [],
   "source": [
    "# First, import the relevant modules\n",
    "import requests\n",
    "import json"
   ]
  },
  {
   "cell_type": "markdown",
   "id": "81ee039a",
   "metadata": {},
   "source": [
    "\n",
    "\n",
    "Note: API's can change a bit with each version, for this exercise it is reccomended to use the nasdaq api at https://data.nasdaq.com/api/v3/. This is the same api as what used to be quandl so https://www.quandl.com/api/v3/ should work too.\n",
    "\n",
    "Hint: We are looking for the AFX_X data on the datasets/FSE/ dataset.\n"
   ]
  },
  {
   "cell_type": "code",
   "execution_count": 3,
   "id": "fadbe016",
   "metadata": {},
   "outputs": [
    {
     "name": "stdout",
     "output_type": "stream",
     "text": [
      "{'dataset_data': {'limit': None, 'transform': None, 'column_index': None, 'column_names': ['Date', 'Open', 'High', 'Low', 'Close', 'Change', 'Traded Volume', 'Turnover', 'Last Price of the Day', 'Daily Traded Units', 'Daily Turnover'], 'start_date': '2017-12-30', 'end_date': '2017-12-31', 'frequency': 'daily', 'data': [], 'collapse': None, 'order': None}}\n"
     ]
    }
   ],
   "source": [
    "# Now, call the Nasdaq API and pull out a small sample of the data (only one day) to get a glimpse\n",
    "# into the JSON structure that will be returned\n",
    "\n",
    "url = 'https://data.nasdaq.com//api/v3/datasets/FSE/AFX_X/data.json?start_date=2017-12-30&end_date=2017-12-31&api_key=Q7h4CtSuCz6xRyyRsQU1'\n",
    "r = requests.get(url)\n",
    "json_data = r.json()\n",
    "print(json_data)\n",
    "#for k, v in json_data.items():\n",
    "#    print(k + ':', v)"
   ]
  },
  {
   "cell_type": "markdown",
   "id": "5dadcf90",
   "metadata": {},
   "source": [
    "\n",
    "\n",
    "{'dataset': {'id': 10095370,\n",
    "  'dataset_code': 'AFX_X',\n",
    "  'database_code': 'FSE',\n",
    "  'name': 'Carl Zeiss Meditec (AFX_X)',\n",
    "  'description': 'Stock Prices for Carl Zeiss Meditec (2020-11-02) from the Frankfurt Stock Exchange.<br><br>Trading System: Xetra<br><br>ISIN: DE0005313704',\n",
    "  'refreshed_at': '2020-12-01T14:48:09.907Z',\n",
    "  'newest_available_date': '2020-12-01',\n",
    "  'oldest_available_date': '2000-06-07',\n",
    "  'column_names': ['Date',\n",
    "   'Open',\n",
    "   'High',\n",
    "   'Low',\n",
    "   'Close',\n",
    "   'Change',\n",
    "   'Traded Volume',\n",
    "   'Turnover',\n",
    "   'Last Price of the Day',\n",
    "   'Daily Traded Units',\n",
    "   'Daily Turnover'],\n",
    "  'frequency': 'daily',\n",
    "  'type': 'Time Series',\n",
    "  'premium': False,\n",
    "  'limit': None,\n",
    "  'transform': None,\n",
    "  'column_index': None,\n",
    "  'start_date': '2021-01-03',\n",
    "  'end_date': '2020-12-01',\n",
    "  'data': [],\n",
    "  'collapse': None,\n",
    "  'order': None,\n",
    "  'database_id': 6129}}\n",
    "\n",
    "These are your tasks for this mini project:\n",
    "\n",
    "    Collect data from the Franfurt Stock Exchange, for the ticker AFX_X, for the whole year 2017 (keep in mind that the date format is YYYY-MM-DD).\n",
    "    Convert the returned JSON object into a Python dictionary.\n",
    "    Calculate what the highest and lowest opening prices were for the stock in this period.\n",
    "    What was the largest change in any one day (based on High and Low price)?\n",
    "    What was the largest change between any two days (based on Closing Price)?\n",
    "    What was the average daily trading volume during this year?\n",
    "    (Optional) What was the median trading volume during this year. (Note: you may need to implement your own function for calculating the median.)\n",
    "\n"
   ]
  },
  {
   "cell_type": "code",
   "execution_count": 5,
   "id": "aa51acb4",
   "metadata": {},
   "outputs": [
    {
     "name": "stdout",
     "output_type": "stream",
     "text": [
      "High= 53.54 Low= 33.62\n"
     ]
    }
   ],
   "source": [
    "#collect data\n",
    "url = 'https://data.nasdaq.com//api/v3/datasets/FSE/AFX_X/data.json?start_date=2017-01-01&end_date=2017-12-31&api_key=Q7h4CtSuCz6xRyyRsQU1'\n",
    "r = requests.get(url)\n",
    "#convert to dictionary\n",
    "json_data = r.json()\n",
    "#highest and lowest opening prices\n",
    "high = 0\n",
    "low = 99\n",
    "for l in json_data['dataset_data']['data']:\n",
    "    if high < l[2]:\n",
    "        high = l[2]\n",
    "    if low > l[3]:\n",
    "        low = l[3]\n",
    "print('High=' , high, 'Low=', low)"
   ]
  },
  {
   "cell_type": "code",
   "execution_count": 7,
   "id": "c698dc74",
   "metadata": {},
   "outputs": [
    {
     "name": "stdout",
     "output_type": "stream",
     "text": [
      "Change= 2.8100000000000023\n"
     ]
    }
   ],
   "source": [
    "#greatest change\n",
    "change = 0\n",
    "for l in json_data['dataset_data']['data']:\n",
    "    if l[2] - l[3] > change:\n",
    "        change = l[2] - l[3]\n",
    "print('Change=', change)"
   ]
  },
  {
   "cell_type": "code",
   "execution_count": null,
   "id": "a7a629ce",
   "metadata": {},
   "outputs": [],
   "source": []
  }
 ],
 "metadata": {
  "kernelspec": {
   "display_name": "Python 3 (ipykernel)",
   "language": "python",
   "name": "python3"
  },
  "language_info": {
   "codemirror_mode": {
    "name": "ipython",
    "version": 3
   },
   "file_extension": ".py",
   "mimetype": "text/x-python",
   "name": "python",
   "nbconvert_exporter": "python",
   "pygments_lexer": "ipython3",
   "version": "3.9.9"
  }
 },
 "nbformat": 4,
 "nbformat_minor": 5
}
